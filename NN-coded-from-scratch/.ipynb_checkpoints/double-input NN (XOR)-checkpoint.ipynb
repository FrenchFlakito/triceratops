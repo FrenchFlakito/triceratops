{
 "cells": [
  {
   "cell_type": "markdown",
   "metadata": {},
   "source": [
    "# Coding a neural network from scratch"
   ]
  },
  {
   "cell_type": "code",
   "execution_count": 1,
   "metadata": {},
   "outputs": [],
   "source": [
    "import numpy as np\n",
    "import matplotlib.pyplot as plt"
   ]
  },
  {
   "cell_type": "code",
   "execution_count": 2,
   "metadata": {},
   "outputs": [],
   "source": [
    "def sigmoid(Z):\n",
    "    A = 1 / (1 + np.exp(-Z))\n",
    "    activ_cache = Z\n",
    "    return A, activ_cache\n",
    "\n",
    "def relu(Z):\n",
    "    A = np.maximum(0,Z)\n",
    "    activ_cache = Z\n",
    "    return A, activ_cache"
   ]
  },
  {
   "cell_type": "code",
   "execution_count": 3,
   "metadata": {},
   "outputs": [],
   "source": [
    "def initialize(layers_dims): #ex: layerdims = [12288, 5,5,5,1] => 1st input is the number of features\n",
    "    \n",
    "    L = len(layers_dims)\n",
    "    params = {}\n",
    "    \n",
    "    for i in range(1, L):\n",
    "        params['W' + str(i)] = np.random.randn(layers_dims[i], layers_dims[i-1]) #* 0.001 / np.sqrt(layer_dims[i-1]) \n",
    "        params['b' + str(i)] = np.zeros((layers_dims[i],1))\n",
    "    \n",
    "    return params"
   ]
  },
  {
   "cell_type": "code",
   "execution_count": 4,
   "metadata": {},
   "outputs": [],
   "source": [
    "def linear_activation_forward(A_prev, W, b, activation): #type(activation) == string\n",
    "    \n",
    "    linear_cache = (A_prev, W, b)\n",
    "    assert W.shape[1] == A_prev.shape[0]\n",
    "    Z = np.dot(W,A_prev) + b\n",
    "    \n",
    "    if activation == \"relu\":\n",
    "        A, activ_cache = relu(Z)\n",
    "    elif activation == \"sigmoid\":\n",
    "        A, activ_cache = sigmoid(Z)\n",
    "    else:\n",
    "        raise Exception('{activation} function is not known'.format(activation))\n",
    "\n",
    "    cache = (linear_cache, activ_cache)\n",
    "    \n",
    "    return A, cache"
   ]
  },
  {
   "cell_type": "code",
   "execution_count": 5,
   "metadata": {},
   "outputs": [],
   "source": [
    "def L_model(X, params, activations, final_activ):\n",
    "    \n",
    "    L = len(params) // 2\n",
    "    caches = []\n",
    "    \n",
    "    A = X\n",
    "    \n",
    "    # L-1 premières couches\n",
    "    for l in range(1, L):\n",
    "        A_prev = A\n",
    "        A, cache = linear_activation_forward(A_prev, params['W' + str(l)], params['b' + str(l)], activations)\n",
    "        caches.append(cache)\n",
    "    \n",
    "    # L-ième couche\n",
    "    A, cache = linear_activation_forward(A, params['W' + str(L)], params['b' + str(L)], final_activ)\n",
    "    caches.append(cache)\n",
    "    \n",
    "    Yhat = A\n",
    "    \n",
    "    return Yhat, caches\n",
    "    # caches is a list containing L \"cache\" tupples, each one containing\n",
    "    # 1) lin_cache (with A_prev (activations for layer l-1), matrix W and \n",
    "    # vector b for layer l)\n",
    "    # 2) activ_cache (containing just Z for layer l)"
   ]
  },
  {
   "cell_type": "code",
   "execution_count": 6,
   "metadata": {},
   "outputs": [],
   "source": [
    "def compute_cost(Yhat,Y):\n",
    "    \n",
    "    m = Y.shape[1]\n",
    "    \n",
    "    # average of losses, computed through vector multiplication. Returns an array.\n",
    "    cost = (- 1. / m) * (np.dot(Y,np.log(Yhat).T) + np.dot((1 - Y),np.log(1 - Yhat).T))\n",
    "\n",
    "    # np.squeeze allows to remove a \"level\" of brackets\n",
    "    cost = np.squeeze(cost)\n",
    "    assert cost.shape == ()\n",
    "    \n",
    "    return cost"
   ]
  },
  {
   "cell_type": "code",
   "execution_count": 7,
   "metadata": {},
   "outputs": [],
   "source": [
    "def linear_backward(dZ, lin_cache):\n",
    "\n",
    "    A_prev, W, b = lin_cache\n",
    "    m = A_prev.shape[1]\n",
    "\n",
    "    dW = 1 / m * np.dot(dZ, A_prev.T)\n",
    "    db = 1 / m * np.sum(dZ, axis=1, keepdims=True)\n",
    "    dA_prev = np.dot(W.T, dZ)\n",
    "    \n",
    "    return dA_prev, dW, db"
   ]
  },
  {
   "cell_type": "code",
   "execution_count": 8,
   "metadata": {},
   "outputs": [],
   "source": [
    "def relu_backward(dA, Z):\n",
    "    assert len(Z) == len(dA)\n",
    "    dA_copy = np.array(dA, copy=True)\n",
    "    dA_copy[Z <= 0] = 0\n",
    "    return dA_copy\n",
    "\n",
    "def sigmoid_backward(dA, Z):\n",
    "    s, _ = sigmoid(Z)\n",
    "    dZ = dA * (s * (1 -s))\n",
    "    return dZ"
   ]
  },
  {
   "cell_type": "code",
   "execution_count": 9,
   "metadata": {},
   "outputs": [],
   "source": [
    "def lin_activation_backward(dA, cache, activation):\n",
    "    \n",
    "    lin_cache, activ_cache = cache\n",
    "    Z = activ_cache\n",
    "    \n",
    "    if activation == \"relu\":\n",
    "        dZ = relu_backward(dA, Z)\n",
    "    elif activation == \"sigmoid\":\n",
    "        dZ = sigmoid_backward(dA, Z)\n",
    "    else:\n",
    "        raise Exception('{activation} function is not known'.format(activation))\n",
    "\n",
    "    dA_prev, dW, db = linear_backward(dZ, lin_cache)\n",
    "    \n",
    "    return dA_prev, dW, db"
   ]
  },
  {
   "cell_type": "code",
   "execution_count": 10,
   "metadata": {},
   "outputs": [],
   "source": [
    "def L_model_backward(Yhat, Y, caches, activations, final_activ):\n",
    "    \n",
    "    grads = {}\n",
    "    L = len(caches)\n",
    "    m = Y.shape[1]    \n",
    "    \n",
    "    # grad of cost function relative to Yhat\n",
    "    dYhat = - (np.divide(Y, Yhat) - np.divide(1-Y, (1-Yhat))) \n",
    "    \n",
    "    # calculate grads for layer L-1\n",
    "    current_cache = caches[L-1]\n",
    "    grads[\"dA\" + str(L-1)], grads[\"dW\" + str(L)], grads[\"db\" + str(L)] = lin_activation_backward(dYhat, current_cache, final_activ)\n",
    "    \n",
    "    # calculating grads for layer L-2 through 1\n",
    "    for l in reversed(range(L-1)):\n",
    "        current_cache = caches[l]\n",
    "        grads[\"dA\" + str(l)], grads[\"dW\" + str(l+1)], grads[\"db\" + str(l+1)] = lin_activation_backward(grads[\"dA\" + str(l+1)], current_cache, activations)\n",
    "        \n",
    "    return grads"
   ]
  },
  {
   "cell_type": "code",
   "execution_count": 11,
   "metadata": {},
   "outputs": [],
   "source": [
    "def update_params(params, grads, learning_rate):\n",
    "    \n",
    "    L = len(params) // 2\n",
    "    \n",
    "    for l in range(1, L +1):\n",
    "        params['W' + str(l)] = params['W' + str(l)] - learning_rate * grads['dW' + str(l)]\n",
    "        params['b' + str(l)] = params['b' + str(l)] - learning_rate * grads['db' + str(l)]     \n",
    "    \n",
    "    return params"
   ]
  },
  {
   "cell_type": "code",
   "execution_count": 12,
   "metadata": {},
   "outputs": [],
   "source": [
    "def L_layer_model(X, Y, layer_dims, learning_rate, activations, final_activ, num_iterations, print_cost=True, show_plot=False):\n",
    "    \n",
    "    assert (layer_dims[0] == X.shape[0])\n",
    "\n",
    "    params = initialize(layer_dims) #reminder: layer_dims[0] = number of features\n",
    "    costs = []\n",
    "    \n",
    "    for it in range(1,num_iterations + 1):        \n",
    "        Yhat, caches = L_model(X, params, activations, final_activ) #forward pass        \n",
    "        cost = compute_cost(Yhat, Y) #compute cost of this state        \n",
    "        if print_cost and it % 1000 == 0:\n",
    "            print(\"Cost after {} iterations : {}\".format(it, cost))\n",
    "            costs.append(cost) #logs the cost every 1000 iterations\n",
    "        \n",
    "        grads = L_model_backward(Yhat, Y, caches, activations, final_activ)\n",
    "        update_params(params, grads, learning_rate)\n",
    "    \n",
    "    # optional visualization\n",
    "    if show_plot:\n",
    "        plt.plot(np.squeeze(costs))\n",
    "        plt.ylabel('cost')\n",
    "        plt.xlabel('iterations (per 1000s)')\n",
    "        plt.title(\"Learning rate =\" + str(learning_rate))\n",
    "        plt.show()\n",
    "\n",
    "    return params"
   ]
  },
  {
   "cell_type": "markdown",
   "metadata": {},
   "source": [
    "### Creating a dataset\n",
    "\n",
    "We generate binary tuples (X) and attribute to Y the result of a XOR evaluation, as follows:"
   ]
  },
  {
   "cell_type": "code",
   "execution_count": 13,
   "metadata": {},
   "outputs": [],
   "source": [
    "def new_xor_dataset(nbr_of_examples):\n",
    "    X = np.random.randint(0, 2, size = (2, nbr_of_examples))\n",
    "\n",
    "    Y = X.sum(axis=0, keepdims=True)    \n",
    "    Y[Y != 1] = 0\n",
    "    \n",
    "    return X,Y"
   ]
  },
  {
   "cell_type": "markdown",
   "metadata": {},
   "source": [
    "Example:"
   ]
  },
  {
   "cell_type": "code",
   "execution_count": 14,
   "metadata": {},
   "outputs": [
    {
     "data": {
      "text/plain": [
       "(array([[1, 1, 1, 1, 0],\n",
       "        [0, 0, 0, 0, 0]]), array([[1, 1, 1, 1, 0]]))"
      ]
     },
     "execution_count": 14,
     "metadata": {},
     "output_type": "execute_result"
    }
   ],
   "source": [
    "new_xor_dataset(5)"
   ]
  },
  {
   "cell_type": "markdown",
   "metadata": {},
   "source": [
    "### Running the model"
   ]
  },
  {
   "cell_type": "markdown",
   "metadata": {},
   "source": [
    "#### Hyperparameters"
   ]
  },
  {
   "cell_type": "code",
   "execution_count": 15,
   "metadata": {},
   "outputs": [],
   "source": [
    "num_iterations = 5000\n",
    "layer_dims = [2, 2, 1]\n",
    "learning_rate = 2\n",
    "activations=\"relu\"\n",
    "final_activ=\"sigmoid\""
   ]
  },
  {
   "cell_type": "markdown",
   "metadata": {},
   "source": [
    "First, let's try to launch it several times to see the reliability:"
   ]
  },
  {
   "cell_type": "code",
   "execution_count": 16,
   "metadata": {},
   "outputs": [
    {
     "name": "stdout",
     "output_type": "stream",
     "text": [
      ">>>>>>> 1 <<<<<<<\n",
      "Cost after 1000 iterations : 0.471853989867292\n",
      "Cost after 2000 iterations : 0.4718399471857046\n",
      "Cost after 3000 iterations : 0.4718467082174015\n",
      "Cost after 4000 iterations : 0.47183814231023535\n",
      "Cost after 5000 iterations : 0.4718355379513478\n",
      "\n",
      ">>>>>>> 2 <<<<<<<\n",
      "Cost after 1000 iterations : 0.6931468605599116\n",
      "Cost after 2000 iterations : 0.6931468605599116\n",
      "Cost after 3000 iterations : 0.6931468605599116\n",
      "Cost after 4000 iterations : 0.6931468605599116\n",
      "Cost after 5000 iterations : 0.6931468605599116\n",
      "\n",
      ">>>>>>> 3 <<<<<<<\n",
      "Cost after 1000 iterations : 0.4840477562801589\n",
      "Cost after 2000 iterations : 0.4839784840008317\n",
      "Cost after 3000 iterations : 0.4840100357392776\n",
      "Cost after 4000 iterations : 0.48397719131174677\n",
      "Cost after 5000 iterations : 0.48397400633170246\n",
      "\n",
      ">>>>>>> 4 <<<<<<<\n",
      "Cost after 1000 iterations : 0.4742658686520668\n",
      "Cost after 2000 iterations : 0.47423700257038404\n",
      "Cost after 3000 iterations : 0.47423245884078297\n",
      "Cost after 4000 iterations : 0.47425438802547126\n",
      "Cost after 5000 iterations : 0.47423527197448395\n",
      "\n",
      ">>>>>>> 5 <<<<<<<\n",
      "Cost after 1000 iterations : 0.48555620158132634\n",
      "Cost after 2000 iterations : 0.4855226604867185\n",
      "Cost after 3000 iterations : 0.4855113277353649\n",
      "Cost after 4000 iterations : 0.4855090514971463\n",
      "Cost after 5000 iterations : 0.4855080829703633\n",
      "\n"
     ]
    }
   ],
   "source": [
    "for i in range(5):\n",
    "    print(\">>>>>>>\", i + 1, \"<<<<<<<\")\n",
    "    X_train, Y_train = new_xor_dataset(5000)\n",
    "    trained_model = L_layer_model(X_train, Y_train, layer_dims, learning_rate, activations, final_activ, num_iterations)\n",
    "    print()\n"
   ]
  },
  {
   "cell_type": "markdown",
   "metadata": {},
   "source": [
    "Seems pretty unreliable, the cost varies a lot. This may have to do with the initialization of our weights ; we'll have to see this.\n",
    "\n",
    "Meanwhile, let's try to assess the performance of our model with regards to accuracy."
   ]
  },
  {
   "cell_type": "markdown",
   "metadata": {},
   "source": [
    "#### Getting parameters"
   ]
  },
  {
   "cell_type": "code",
   "execution_count": 17,
   "metadata": {},
   "outputs": [
    {
     "name": "stdout",
     "output_type": "stream",
     "text": [
      "Cost after 1000 iterations : 0.0007405144717997071\n",
      "Cost after 2000 iterations : 0.00035292978326913004\n",
      "Cost after 3000 iterations : 0.00023039029075513874\n",
      "Cost after 4000 iterations : 0.00017055699625922162\n",
      "Cost after 5000 iterations : 0.00013526008651966755\n"
     ]
    }
   ],
   "source": [
    "X_train, Y_train = new_xor_dataset(5000)\n",
    "trained_model = L_layer_model(X_train, Y_train, layer_dims, learning_rate, activations, final_activ, num_iterations)\n"
   ]
  },
  {
   "cell_type": "markdown",
   "metadata": {},
   "source": [
    "#### 'predict' function and appraisal of performance with these weights"
   ]
  },
  {
   "cell_type": "code",
   "execution_count": 18,
   "metadata": {},
   "outputs": [],
   "source": [
    "def test_pred(X, Y, params):\n",
    "    \"\"\"\n",
    "    Arguments:\n",
    "    X -- data set of examples you would like to label\n",
    "    parameters -- parameters of the trained model\n",
    "\n",
    "    Returns:\n",
    "    p -- predictions for the given dataset X\n",
    "    \"\"\"\n",
    "\n",
    "    m = X.shape[1]\n",
    "    p = np.zeros((1,m))\n",
    "\n",
    "    # Forward propagation\n",
    "    probas, caches = L_model(X, params, activations, final_activ)\n",
    "\n",
    "\n",
    "    # convert probas to 0/1 predictions\n",
    "    for i in range(0, probas.shape[1]):\n",
    "        if probas[0,i] > 0.5:\n",
    "            p[0,i] = 1\n",
    "        else:\n",
    "            p[0,i] = 0\n",
    "\n",
    "    #print results\n",
    "    #print (\"predictions: \" + str(p))\n",
    "    #print (\"true labels: \" + str(y))\n",
    "    print(\"Accuracy: \"  + str(np.sum((p[0] == Y[0]))/m))\n",
    "\n",
    "    return Y, p"
   ]
  },
  {
   "cell_type": "code",
   "execution_count": 19,
   "metadata": {},
   "outputs": [
    {
     "name": "stdout",
     "output_type": "stream",
     "text": [
      "Accuracy: 1.0\n"
     ]
    },
    {
     "data": {
      "text/plain": [
       "(array([[0, 0, 0, 1, 1, 1, 1, 1, 1, 1, 0, 0, 1, 0, 0, 0, 0, 0, 1, 1, 1, 0,\n",
       "         0, 0, 0, 0, 0, 1, 0, 0, 0, 1, 0, 1, 0, 1, 1, 1, 1, 1, 1, 0, 1, 0,\n",
       "         1, 0, 1, 1, 0, 1, 0, 0, 0, 0, 0, 1, 1, 1, 0, 1, 0, 0, 1, 0, 1, 1,\n",
       "         0, 0, 0, 0, 1, 1, 1, 0, 0, 0, 0, 1, 1, 0, 1, 0, 1, 1, 0, 1, 0, 0,\n",
       "         0, 1, 1, 1, 1, 1, 0, 1, 1, 0, 0, 1, 1, 0, 0, 0, 1, 0, 0, 0, 0, 0,\n",
       "         1, 0, 0, 1, 1, 0, 1, 1, 0, 0, 0, 1, 0, 1, 1, 1, 0, 1, 0, 0, 0, 0,\n",
       "         1, 1, 1, 0, 1, 1, 1, 1, 1, 0, 1, 0, 1, 0, 0, 1, 1, 0, 1, 1, 0, 1,\n",
       "         1, 0, 1, 0, 1, 0, 1, 1, 0, 0, 0, 0, 0, 1, 0, 1, 0, 0, 0, 1, 0, 0,\n",
       "         0, 1, 0, 1, 1, 0, 0, 0, 1, 0, 0, 1, 1, 0, 1, 1, 1, 0, 0, 0, 1, 0,\n",
       "         0, 1, 0, 1, 0, 1, 0, 0, 1, 0, 0, 0, 0, 1, 1, 0, 1, 0, 0, 1, 1, 0,\n",
       "         0, 0, 1, 1, 0, 0, 0, 0, 0, 0, 1, 0, 1, 1, 1, 1, 0, 1, 1, 0, 1, 1,\n",
       "         0, 0, 0, 0, 1, 0, 1, 0]]),\n",
       " array([[0., 0., 0., 1., 1., 1., 1., 1., 1., 1., 0., 0., 1., 0., 0., 0.,\n",
       "         0., 0., 1., 1., 1., 0., 0., 0., 0., 0., 0., 1., 0., 0., 0., 1.,\n",
       "         0., 1., 0., 1., 1., 1., 1., 1., 1., 0., 1., 0., 1., 0., 1., 1.,\n",
       "         0., 1., 0., 0., 0., 0., 0., 1., 1., 1., 0., 1., 0., 0., 1., 0.,\n",
       "         1., 1., 0., 0., 0., 0., 1., 1., 1., 0., 0., 0., 0., 1., 1., 0.,\n",
       "         1., 0., 1., 1., 0., 1., 0., 0., 0., 1., 1., 1., 1., 1., 0., 1.,\n",
       "         1., 0., 0., 1., 1., 0., 0., 0., 1., 0., 0., 0., 0., 0., 1., 0.,\n",
       "         0., 1., 1., 0., 1., 1., 0., 0., 0., 1., 0., 1., 1., 1., 0., 1.,\n",
       "         0., 0., 0., 0., 1., 1., 1., 0., 1., 1., 1., 1., 1., 0., 1., 0.,\n",
       "         1., 0., 0., 1., 1., 0., 1., 1., 0., 1., 1., 0., 1., 0., 1., 0.,\n",
       "         1., 1., 0., 0., 0., 0., 0., 1., 0., 1., 0., 0., 0., 1., 0., 0.,\n",
       "         0., 1., 0., 1., 1., 0., 0., 0., 1., 0., 0., 1., 1., 0., 1., 1.,\n",
       "         1., 0., 0., 0., 1., 0., 0., 1., 0., 1., 0., 1., 0., 0., 1., 0.,\n",
       "         0., 0., 0., 1., 1., 0., 1., 0., 0., 1., 1., 0., 0., 0., 1., 1.,\n",
       "         0., 0., 0., 0., 0., 0., 1., 0., 1., 1., 1., 1., 0., 1., 1., 0.,\n",
       "         1., 1., 0., 0., 0., 0., 1., 0., 1., 0.]]))"
      ]
     },
     "execution_count": 19,
     "metadata": {},
     "output_type": "execute_result"
    }
   ],
   "source": [
    "X_test, Y_test = new_xor_dataset(250)\n",
    "test_pred(X_test, Y_test, trained_model)"
   ]
  },
  {
   "cell_type": "markdown",
   "metadata": {},
   "source": [
    "### Next phases\n",
    "\n",
    "- Complexifier le dataset : Tester avec un dataset où l'étiquette est 1 dans [0:20] et [80:100]"
   ]
  },
  {
   "cell_type": "code",
   "execution_count": null,
   "metadata": {},
   "outputs": [],
   "source": []
  }
 ],
 "metadata": {
  "kernelspec": {
   "display_name": "Python 3",
   "language": "python",
   "name": "python3"
  },
  "language_info": {
   "codemirror_mode": {
    "name": "ipython",
    "version": 3
   },
   "file_extension": ".py",
   "mimetype": "text/x-python",
   "name": "python",
   "nbconvert_exporter": "python",
   "pygments_lexer": "ipython3",
   "version": "3.7.1"
  }
 },
 "nbformat": 4,
 "nbformat_minor": 2
}
