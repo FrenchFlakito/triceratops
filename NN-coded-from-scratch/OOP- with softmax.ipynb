{
 "cells": [
  {
   "cell_type": "markdown",
   "metadata": {},
   "source": [
    "# Object-oriented-programmed Neural Network"
   ]
  },
  {
   "cell_type": "markdown",
   "metadata": {},
   "source": [
    "#### Includes standard binary classification and softmax"
   ]
  },
  {
   "cell_type": "code",
   "execution_count": 1,
   "metadata": {},
   "outputs": [],
   "source": [
    "import numpy as np\n",
    "import matplotlib.pyplot as plt"
   ]
  },
  {
   "cell_type": "markdown",
   "metadata": {},
   "source": [
    "We define several classes :\n",
    "\n",
    "- a \"net\" class that will be instantiated only once\n",
    "```\n",
    "net = Net('multi_cross_entropy')\n",
    "```\n",
    "- several \"layer\" classes, which will have to be instantiated Keras-style :\n",
    "```\n",
    "net.add(LayerFC(2,2))\n",
    "net.add(LayerTanh())\n",
    "net.add(LayerFC(2, 4))\n",
    "net.add(LayerTanh())\n",
    "net.add(LayerFC(4, 1))\n",
    "net.add(LayerSigmoid())\n",
    "```"
   ]
  },
  {
   "cell_type": "code",
   "execution_count": 27,
   "metadata": {},
   "outputs": [],
   "source": [
    "class Net():\n",
    "    \n",
    "    def __init__(self, loss_type): # loss_type should be a string: 'bin_cross_entropy', 'multi_cross_entropy'...\n",
    "        self.layers = []\n",
    "        self.loss_type = loss_type\n",
    "        \n",
    "    def add(self, layer):\n",
    "        self.layers.append(layer)\n",
    "        \n",
    "    def forward_pass(self, X):\n",
    "        A = X\n",
    "        for layer in self.layers:\n",
    "            A = layer.forward(A)\n",
    "        return A\n",
    "        \n",
    "    def bin_cross_entropy(self, A, Y):\n",
    "        m = A.shape[1] #batch size\n",
    "        loss = - (np.log(A) * Y + np.log(1 - A) * (1 - Y))\n",
    "        cost = np.sum(loss) / m\n",
    "        return cost\n",
    "    \n",
    "    def multi_cross_entropy(self, preds, labels):\n",
    "        # preds: probabilities in a (nclasses, nexamples) array\n",
    "        # labels: 1-0 in a (nclasses, nexamples) array (one-hot encoded)\n",
    "        cross = np.multiply(preds, labels)\n",
    "        cross = cross[cross != 0]\n",
    "        cross = -np.log(cross)\n",
    "        cross = np.mean(cross)\n",
    "        return cross\n",
    "        \n",
    "    def backward_pass(self, dERROR, learning_rate):\n",
    "        if self.loss_type == 'bin_cross_entropy':\n",
    "            backward_list = reversed(self.layers)\n",
    "        elif self.loss_type == 'multi_cross_entropy':\n",
    "            backward_list = reversed(self.layers[0:-1])\n",
    "\n",
    "        for layer in backward_list:\n",
    "            dERROR = layer.backward(dERROR, learning_rate)\n",
    "            \n",
    "    def get_accuracy(self, A, Y):\n",
    "        # get best-guess predictions\n",
    "        preds = np.round(A, decimals=0)\n",
    "        # check how many such guesses were right\n",
    "        correct_preds = (Y == preds)\n",
    "        n_correct = np.squeeze(np.sum(correct_preds))\n",
    "        # get accuracy rate\n",
    "        m = A.shape[1] # number of examples\n",
    "        accuracy = n_correct / m\n",
    "        return accuracy\n",
    "       \n",
    "    def train(self, X, Y, learning_rate, epochs, prints_freq):\n",
    "\n",
    "        self.costs = []\n",
    "        \n",
    "        for epoch in range(epochs):\n",
    "            A = self.forward_pass(X)\n",
    "            \n",
    "            if self.loss_type == 'bin_cross_entropy':\n",
    "                dERROR = - (Y/A) + ((1-Y)/(1-A))  # at this point dERROR = dJ/dAL\n",
    "                curr_cross_entropy = self.bin_cross_entropy(A, Y)            \n",
    "            elif self.loss_type == 'multi_cross_entropy':\n",
    "                dERROR = A - Y # at this point dERROR = dJ/dZ\n",
    "                curr_cross_entropy = self.multi_cross_entropy(A, Y)            \n",
    "\n",
    "            if epoch % prints_freq == 0:\n",
    "                print(\"Epoch:\", epoch, \"Cost: \", curr_cross_entropy)\n",
    "            self.costs.append(curr_cross_entropy)\n",
    "            \n",
    "            self.backward_pass(dERROR, learning_rate)\n",
    "        plt.plot(self.costs)\n",
    "        \n",
    "    def translate(self, A):\n",
    "        return np.argmax(A, axis = 0)"
   ]
  },
  {
   "cell_type": "markdown",
   "metadata": {},
   "source": [
    "We define \n",
    "- One \"Fully-Connected\" layer class\n",
    "- Several activation layer classes"
   ]
  },
  {
   "cell_type": "code",
   "execution_count": 28,
   "metadata": {},
   "outputs": [],
   "source": [
    "class LayerFC():\n",
    "    \n",
    "    def __init__(self, n_x, n_h):\n",
    "        self.W = np.random.randn(n_h, n_x)\n",
    "        self.b = np.zeros((n_h, 1))\n",
    "    \n",
    "    def forward(self, A_prev):\n",
    "        self.A_prev = A_prev\n",
    "        self.Z = np.dot(self.W, self.A_prev) + self.b\n",
    "        return self.Z\n",
    "    \n",
    "    def backward(self, dERROR, learning_rate):\n",
    "        m = dERROR.shape[1] #batch size\n",
    "        dW = (1 / m) * np.dot(dERROR, self.A_prev.T)\n",
    "        db = (1 / m) * np.sum(dERROR, axis=1, keepdims=True)\n",
    "        dERROR = np.dot(self.W.T, dERROR)\n",
    "        \n",
    "        self.W = self.W - learning_rate * dW        \n",
    "        self.b = self.b - learning_rate * db        \n",
    "        \n",
    "        return dERROR\n",
    "    \n",
    "class LayerSigmoid():\n",
    "    \n",
    "    def forward(self, Z):\n",
    "        self.A = 1 / (1 + np.exp(-Z))\n",
    "        return self.A\n",
    "    \n",
    "    def backward(self, dERROR, learning_rate):\n",
    "        derivative = self.A * (1 - self.A)\n",
    "        dERROR = dERROR * derivative        \n",
    "        return dERROR\n",
    "\n",
    "class LayerTanh():    \n",
    "    def forward(self, Z):\n",
    "        self.A = np.tanh(Z)\n",
    "        return self.A\n",
    "    \n",
    "    def backward(self, dERROR, learning_rate):\n",
    "        derivative = 1 - np.square(self.A)\n",
    "        dERROR = dERROR * derivative\n",
    "        return dERROR\n",
    "\n",
    "#ReLU doesn't seem to deliver even remotely correct perfs with our simple datasets.\n",
    "    \n",
    "class LayerSoftmax():    \n",
    "    def forward(self, Z):\n",
    "        self.t = np.exp(Z)\n",
    "        exps_sum = np.sum(self.t)\n",
    "        self.A = self.t / exps_sum\n",
    "        return self.A\n",
    "\n",
    "    def backward(self, dERROR, learning_rate):\n",
    "        derivative = self.A * (1 - self.A)\n",
    "        dERROR = dERROR * derivative        \n",
    "        return dERROR\n"
   ]
  },
  {
   "cell_type": "markdown",
   "metadata": {},
   "source": [
    "#### Generating examples"
   ]
  },
  {
   "cell_type": "code",
   "execution_count": 29,
   "metadata": {},
   "outputs": [],
   "source": [
    "def gen_xor_examples(sample_size):\n",
    "    X = np.random.randn(2,sample_size)\n",
    "    mask1 = X[0, :] > 0\n",
    "    mask2 = X[1, :] > 0\n",
    "    mask3 = X[0, :] < 0\n",
    "    mask4 = X[1, :] < 0\n",
    "    Y = ((mask1 & mask2) | (mask3 & mask4)) * 1\n",
    "    Y = Y.reshape(1, Y.shape[0])\n",
    "    return X, Y"
   ]
  },
  {
   "cell_type": "code",
   "execution_count": 30,
   "metadata": {},
   "outputs": [],
   "source": [
    "X_train, Y_train = gen_xor_examples(500)\n",
    "X_test, Y_test = gen_xor_examples(100)"
   ]
  },
  {
   "cell_type": "code",
   "execution_count": 38,
   "metadata": {},
   "outputs": [],
   "source": [
    "#net = Net('multi_cross_entropy')\n",
    "net = Net('bin_cross_entropy')\n",
    "net.add(LayerFC(2,2))\n",
    "net.add(LayerTanh())\n",
    "net.add(LayerFC(2, 4))\n",
    "net.add(LayerTanh())\n",
    "net.add(LayerFC(4, 1))\n",
    "net.add(LayerSigmoid())"
   ]
  },
  {
   "cell_type": "code",
   "execution_count": 39,
   "metadata": {
    "scrolled": true
   },
   "outputs": [
    {
     "name": "stdout",
     "output_type": "stream",
     "text": [
      "Epoch: 0 Cost:  0.714097224639183\n",
      "Epoch: 500 Cost:  0.041569019597725625\n",
      "Epoch: 1000 Cost:  0.018059910073515317\n"
     ]
    },
    {
     "data": {
      "image/png": "[encoded data removed]",
      "text/plain": [
       "<Figure size 432x288 with 1 Axes>"
      ]
     },
     "metadata": {
      "needs_background": "light"
     },
     "output_type": "display_data"
    }
   ],
   "source": [
    "net.train(X_train, Y_train, epochs=1500, learning_rate=0.5, prints_freq=500)"
   ]
  }
 ],
 "metadata": {
  "kernelspec": {
   "display_name": "Python 3",
   "language": "python",
   "name": "python3"
  },
  "language_info": {
   "codemirror_mode": {
    "name": "ipython",
    "version": 3
   },
   "file_extension": ".py",
   "mimetype": "text/x-python",
   "name": "python",
   "nbconvert_exporter": "python",
   "pygments_lexer": "ipython3",
   "version": "3.7.3"
  }
 },
 "nbformat": 4,
 "nbformat_minor": 2
}
