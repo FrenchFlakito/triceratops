{
 "cells": [
  {
   "cell_type": "code",
   "execution_count": 27,
   "metadata": {},
   "outputs": [],
   "source": [
    "import numpy as np\n",
    "import matplotlib.pyplot as plt"
   ]
  },
  {
   "cell_type": "code",
   "execution_count": 64,
   "metadata": {},
   "outputs": [],
   "source": [
    "class Net():\n",
    "    \n",
    "    def __init__(self):\n",
    "        self.layers = []\n",
    "        \n",
    "    def add(self, layer):\n",
    "        self.layers.append(layer)\n",
    "        \n",
    "    def forward(self, X):\n",
    "        A = X\n",
    "        for layer in self.layers:\n",
    "            A = layer.forward(A)\n",
    "        return A\n",
    "\n",
    "    def compute_cost(self, A, Y):\n",
    "        loss = - (np.log(A) * Y + np.log(1 - A) * (1 - Y))\n",
    "        cost = np.sum(loss, axis=1, keepdims=True) / m\n",
    "        cost = np.round(np.squeeze(cost), 3)\n",
    "        return cost\n",
    "    \n",
    "    def crossentropy(self, preds, labels):\n",
    "        # preds: probabilities in a (nclasses, nexamples) array\n",
    "        # labels: 1-0 in a (nclasses, nexamples) array (one-hot encoded)\n",
    "        cross = np.multiply(preds, labels)\n",
    "        cross = cross[cross != 0]\n",
    "        cross = -np.log(cross)\n",
    "        cross = np.mean(cross)\n",
    "        return cross\n",
    "    \n",
    "    def backward_pass(self, dERROR, learning_rate):\n",
    "        for layer in reversed(self.layers):\n",
    "            dERROR = layer.backward(dERROR, learning_rate)\n",
    "\n",
    "    def backward_pass2(self, dERROR, learning_rate):\n",
    "        mylist = self.layers[0:-1]\n",
    "        inv_list = reversed(mylist)\n",
    "        for layer in inv_list:\n",
    "            dERROR = layer.backward(dERROR, learning_rate)\n",
    "\n",
    "            \n",
    "    def get_accuracy(self, A, Y):\n",
    "        preds = np.round(A, decimals=0)\n",
    "        \n",
    "        results = (Y == preds)\n",
    "        results = np.squeeze(np.sum(results, axis = 1, keepdims=True))\n",
    "        \n",
    "        rate = results / m\n",
    "        return round(rate, 3)\n",
    "\n",
    "    def train(self, X, Y, learning_rate, epochs):\n",
    "        for e in range(epochs):\n",
    "            A = self.forward(X)\n",
    "            dERROR = - (Y/A) + ((1-Y)/(1-A))\n",
    "            if e % 500 == 0:\n",
    "                #rate = self.get_accuracy(A,Y)\n",
    "                print(\"Epoch:\", e, \"Cost: \", self.compute_cost(A, Y)) #\"Acc:\", rate\n",
    "            self.backward_pass(dERROR, learning_rate)\n",
    "        \n",
    "    def multiclass_train(self, X, Y, learning_rate, epochs):\n",
    "        self.entrop = []\n",
    "        for e in range(epochs):\n",
    "            A = self.forward(X)\n",
    "            dERROR = A - Y # at this point dERROR = dJ/dZ\n",
    "            \n",
    "            crossentrop = self.crossentropy(A, Y)            \n",
    "            if e % 200 == 0:\n",
    "                print(\"Epoch:\", e, \"Cost: \", crossentrop)\n",
    "            self.entrop.append(crossentrop)\n",
    "            \n",
    "            self.backward_pass2(dERROR, learning_rate)\n",
    "        \n",
    "        plt.plot(self.entrop)\n",
    "        \n",
    "    def translate(self, A):\n",
    "        return np.argmax(A, axis = 0)"
   ]
  },
  {
   "cell_type": "code",
   "execution_count": 65,
   "metadata": {},
   "outputs": [],
   "source": [
    "class LayerFC():\n",
    "    \n",
    "    def __init__(self, n_x, n_h):\n",
    "        self.W = np.random.randn(n_h, n_x)\n",
    "        self.b = np.zeros((n_h, 1))\n",
    "    \n",
    "    def forward(self, A_prev):\n",
    "        self.A_prev = A_prev\n",
    "        self.Z = np.dot(self.W, self.A_prev) + self.b\n",
    "        return self.Z\n",
    "    \n",
    "    def backward(self, dERROR, learning_rate):\n",
    "        dW = (1 / m) * np.dot(dERROR, self.A_prev.T)\n",
    "        db = (1 / m) * np.sum(dERROR, axis=1, keepdims=True)\n",
    "        dERROR = np.dot(self.W.T, dERROR)\n",
    "        \n",
    "        self.W = self.W - learning_rate * dW        \n",
    "        self.b = self.b - learning_rate * db        \n",
    "        \n",
    "        return dERROR\n",
    "    \n",
    "class LayerSigmoid():\n",
    "    \n",
    "    def forward(self, Z):\n",
    "        self.A = 1 / (1 + np.exp(-Z))\n",
    "        return self.A\n",
    "    \n",
    "    def backward(self, dERROR, learning_rate):\n",
    "        derivative = self.A * (1 - self.A)\n",
    "        dERROR = dERROR * derivative        \n",
    "        return dERROR\n",
    "\n",
    "class LayerTanh():\n",
    "    \n",
    "    def forward(self, Z):\n",
    "        self.A = np.tanh(Z)\n",
    "        return self.A\n",
    "    \n",
    "    def backward(self, dERROR, learning_rate):\n",
    "        derivative = 1 - np.square(self.A)\n",
    "        dERROR = dERROR * derivative\n",
    "        return dERROR\n",
    "\n",
    "class LayerSoftmax():\n",
    "    \n",
    "    def forward(self, Z):\n",
    "        self.t = np.exp(Z)\n",
    "        exps_sum = np.sum(self.t)\n",
    "        self.A = self.t / exps_sum\n",
    "        return self.A"
   ]
  },
  {
   "cell_type": "code",
   "execution_count": 66,
   "metadata": {},
   "outputs": [
    {
     "data": {
      "text/plain": [
       "((2, 220), (1, 220))"
      ]
     },
     "execution_count": 66,
     "metadata": {},
     "output_type": "execute_result"
    }
   ],
   "source": [
    "n_x = 2\n",
    "m = 220\n",
    "X = np.random.randn(n_x, m)\n",
    "\n",
    "mask1 = X[0, :] > 0\n",
    "mask2 = X[1, :] > 0\n",
    "\n",
    "Y = np.logical_xor(mask1, mask2)\n",
    "Y = Y.reshape(1, m)\n",
    "\n",
    "X.shape, Y.shape"
   ]
  },
  {
   "cell_type": "code",
   "execution_count": 67,
   "metadata": {},
   "outputs": [],
   "source": [
    "input_dim= 2\n",
    "m1 = 50 # nbr of examples\n",
    "\n",
    "X_train = np.random.randn(input_dim, m1)\n",
    "\n",
    "mask1 = X_train[0, :] > 0\n",
    "mask2 = X_train[1, :] > 0\n",
    "\n",
    "Y_train = np.logical_xor(mask1, mask2)\n",
    "Y_train = Y_train.reshape(1, m1)\n",
    "#X_train.shape, Y_train.shape"
   ]
  },
  {
   "cell_type": "markdown",
   "metadata": {},
   "source": [
    "### Passage à Softmax"
   ]
  },
  {
   "cell_type": "code",
   "execution_count": 90,
   "metadata": {},
   "outputs": [
    {
     "data": {
      "text/plain": [
       "(4, 6)"
      ]
     },
     "execution_count": 90,
     "metadata": {},
     "output_type": "execute_result"
    }
   ],
   "source": [
    "X = np.array([[1,0,0],[0,1,0],[1,0,0],[0,0,1],[1,1,1],[1,1,1]]).T\n",
    "Y = np.array([[1,0,0,0],[0,1,0,0],[1,0,0,0],[0,0,1,0],[0,0,0,1],[0,0,0,1]]).T\n",
    "Y.shape"
   ]
  },
  {
   "cell_type": "code",
   "execution_count": 91,
   "metadata": {},
   "outputs": [],
   "source": [
    "net2 = Net()\n",
    "net2.add(LayerFC(X.shape[0],2))\n",
    "net2.add(LayerTanh())\n",
    "net2.add(LayerFC(2, 4))\n",
    "net2.add(LayerTanh())\n",
    "net2.add(LayerFC(4, 4))\n",
    "net2.add(LayerSoftmax())"
   ]
  },
  {
   "cell_type": "code",
   "execution_count": 92,
   "metadata": {},
   "outputs": [],
   "source": [
    "abc = net2.forward(X)"
   ]
  },
  {
   "cell_type": "code",
   "execution_count": 93,
   "metadata": {},
   "outputs": [
    {
     "name": "stdout",
     "output_type": "stream",
     "text": [
      "[[0.05296145 0.03633977 0.05296145 0.03272321 0.0527722  0.0527722 ]\n",
      " [0.02414151 0.0376679  0.02414151 0.04852155 0.02624335 0.02624335]\n",
      " [0.01126921 0.04276822 0.01126921 0.06089073 0.01291752 0.01291752]\n",
      " [0.08218558 0.03489716 0.08218558 0.02883305 0.07618837 0.07618837]]\n"
     ]
    }
   ],
   "source": [
    "print(abc)"
   ]
  },
  {
   "cell_type": "code",
   "execution_count": 94,
   "metadata": {},
   "outputs": [
    {
     "data": {
      "text/plain": [
       "array([3, 2, 3, 2, 3, 3])"
      ]
     },
     "execution_count": 94,
     "metadata": {},
     "output_type": "execute_result"
    }
   ],
   "source": [
    "net2.translate(abc)"
   ]
  },
  {
   "cell_type": "code",
   "execution_count": 95,
   "metadata": {
    "scrolled": true
   },
   "outputs": [
    {
     "name": "stdout",
     "output_type": "stream",
     "text": [
      "Epoch: 0 Cost:  2.8505160042522193\n",
      "Epoch: 200 Cost:  2.664097897186537\n",
      "Epoch: 400 Cost:  2.634051084822692\n",
      "Epoch: 600 Cost:  2.6417075136791444\n",
      "Epoch: 800 Cost:  2.6552398255960203\n",
      "Epoch: 1000 Cost:  2.667283714678561\n",
      "Epoch: 1200 Cost:  2.677613720236668\n",
      "Epoch: 1400 Cost:  2.687907511427216\n"
     ]
    },
    {
     "data": {
      "image/png": "[encoded data removed]",
      "text/plain": [
       "<Figure size 432x288 with 1 Axes>"
      ]
     },
     "metadata": {
      "needs_background": "light"
     },
     "output_type": "display_data"
    }
   ],
   "source": [
    "net2.multiclass_train(X, Y, epochs=1500, learning_rate=0.09)"
   ]
  },
  {
   "cell_type": "code",
   "execution_count": 96,
   "metadata": {},
   "outputs": [
    {
     "data": {
      "text/plain": [
       "array([0, 1, 0, 1, 0, 0])"
      ]
     },
     "execution_count": 96,
     "metadata": {},
     "output_type": "execute_result"
    }
   ],
   "source": [
    "abc2 = net2.forward(X)\n",
    "net2.translate(abc2)"
   ]
  },
  {
   "cell_type": "code",
   "execution_count": null,
   "metadata": {},
   "outputs": [],
   "source": []
  }
 ],
 "metadata": {
  "kernelspec": {
   "display_name": "Python 3",
   "language": "python",
   "name": "python3"
  },
  "language_info": {
   "codemirror_mode": {
    "name": "ipython",
    "version": 3
   },
   "file_extension": ".py",
   "mimetype": "text/x-python",
   "name": "python",
   "nbconvert_exporter": "python",
   "pygments_lexer": "ipython3",
   "version": "3.7.3"
  }
 },
 "nbformat": 4,
 "nbformat_minor": 2
}
