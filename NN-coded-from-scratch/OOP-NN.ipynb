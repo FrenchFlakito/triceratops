{
 "cells": [
  {
   "cell_type": "code",
   "execution_count": 546,
   "metadata": {},
   "outputs": [],
   "source": [
    "import numpy as np\n",
    "np.random.seed(1)"
   ]
  },
  {
   "cell_type": "code",
   "execution_count": 646,
   "metadata": {},
   "outputs": [],
   "source": [
    "class Net():\n",
    "    def __init__(self):\n",
    "        self.layers = []\n",
    "        \n",
    "    def add(self, layer):\n",
    "        self.layers.append(layer)\n",
    "        \n",
    "    def forward(self, X):\n",
    "        A = X\n",
    "        for layer in self.layers:\n",
    "            A = layer.forward(A)\n",
    "        return A\n",
    "\n",
    "    def compute_cost(self, A, Y):\n",
    "        loss = - (np.log(A) * Y + np.log(1 - A) * (1 - Y))\n",
    "        cost = np.sum(loss, axis=1, keepdims=True) / m\n",
    "        cost = np.round(np.squeeze(cost), 3)\n",
    "        return cost\n",
    "    \n",
    "    def backward_pass(self, dERROR, learning_rate):\n",
    "        for layer in reversed(self.layers):\n",
    "            dERROR = layer.backward(dERROR, learning_rate)\n",
    "            \n",
    "    def get_accuracy(self, A, Y):\n",
    "        preds = np.round(A, decimals=0)\n",
    "        results = (Y == preds)\n",
    "        results = np.squeeze(np.sum(results, axis = 1, keepdims=True))\n",
    "        rate = results / m\n",
    "        return round(rate, 3)\n",
    "\n",
    "    def train(self, X, Y, learning_rate, epochs=20):\n",
    "        for e in range(epochs):\n",
    "            A = self.forward(X)\n",
    "            dERROR = - (Y/A) + ((1-Y)/(1-A))\n",
    "            if e % 100 == 0:\n",
    "                train_acc = self.get_accuracy(A,Y)\n",
    "                print(\"Epoch:\", e, \"train cost: \", self.compute_cost(A, Y), \"- train acc:\", train_acc)\n",
    "            self.backward_pass(dERROR, learning_rate)\n",
    "            if e % 100 == 0:\n",
    "                test_acc = self.get_accuracy(self.forward(X_test),Y_test)\n",
    "                print(\"Test acc:\", test_acc)\n"
   ]
  },
  {
   "cell_type": "code",
   "execution_count": 647,
   "metadata": {},
   "outputs": [],
   "source": [
    "class LayerFC():\n",
    "    def __init__(self, n_x, n_h):\n",
    "        self.W = np.random.randn(n_h, n_x)\n",
    "        self.b = np.zeros((n_h, 1))\n",
    "    \n",
    "    def forward(self, A_prev):\n",
    "        self.A_prev = A_prev\n",
    "        self.Z = np.dot(self.W, self.A_prev) + self.b\n",
    "        return self.Z\n",
    "    \n",
    "    def backward(self, dERROR, learning_rate):\n",
    "        dW = (1 / m) * np.dot(dERROR, self.A_prev.T)\n",
    "        db = (1 / m) * np.sum(dERROR, axis=1, keepdims=True)\n",
    "        dERROR = np.dot(self.W.T, dERROR)\n",
    "        \n",
    "        self.W = self.W - learning_rate * dW        \n",
    "        self.b = self.b - learning_rate * db        \n",
    "        \n",
    "        return dERROR"
   ]
  },
  {
   "cell_type": "code",
   "execution_count": 648,
   "metadata": {},
   "outputs": [],
   "source": [
    "class LayerSigmoid():\n",
    "    \n",
    "    def forward(self, Z):\n",
    "        self.A = 1 / (1 + np.exp(-Z))\n",
    "        return self.A\n",
    "    \n",
    "    def backward(self, dERROR, learning_rate):\n",
    "        derivative = self.A * (1 - self.A)\n",
    "        dERROR = dERROR * derivative        \n",
    "        return dERROR\n"
   ]
  },
  {
   "cell_type": "code",
   "execution_count": 649,
   "metadata": {},
   "outputs": [],
   "source": [
    "net = Net()\n",
    "net.add(LayerFC(X.shape[0],2))\n",
    "net.add(LayerSigmoid())\n",
    "net.add(LayerFC(2, 2))\n",
    "net.add(LayerSigmoid())\n",
    "net.add(LayerFC(2, 1))\n",
    "net.add(LayerSigmoid())"
   ]
  },
  {
   "cell_type": "code",
   "execution_count": 650,
   "metadata": {},
   "outputs": [
    {
     "data": {
      "text/plain": [
       "((2, 500), (1, 500))"
      ]
     },
     "execution_count": 650,
     "metadata": {},
     "output_type": "execute_result"
    }
   ],
   "source": [
    "m = 500\n",
    "X = np.random.randn(2, m)\n",
    "\n",
    "mask1 = X[0, :] > 0\n",
    "mask2 = X[1, :] > 0\n",
    "\n",
    "Y = np.logical_xor(mask1, mask2)\n",
    "Y = Y.reshape(1, m)\n",
    "\n",
    "X.shape, Y.shape"
   ]
  },
  {
   "cell_type": "code",
   "execution_count": 651,
   "metadata": {},
   "outputs": [],
   "source": [
    "test_size = 100\n",
    "X_test = np.random.randn(n_x, test_size)\n",
    "\n",
    "mask1 = X_test[0, :] > 0\n",
    "mask2 = X_test[1, :] > 0\n",
    "\n",
    "Y_test = np.logical_xor(mask1, mask2)\n",
    "Y_test = Y_test.reshape(1, test_size)"
   ]
  },
  {
   "cell_type": "code",
   "execution_count": 652,
   "metadata": {
    "scrolled": false
   },
   "outputs": [
    {
     "name": "stdout",
     "output_type": "stream",
     "text": [
      "Epoch: 0 train cost:  0.722 - train acc: 0.43\n",
      "Test acc: 0.112\n",
      "Epoch: 100 train cost:  0.683 - train acc: 0.57\n",
      "Test acc: 0.088\n",
      "Epoch: 200 train cost:  0.683 - train acc: 0.57\n",
      "Test acc: 0.088\n",
      "Epoch: 300 train cost:  0.683 - train acc: 0.57\n",
      "Test acc: 0.088\n",
      "Epoch: 400 train cost:  0.683 - train acc: 0.57\n",
      "Test acc: 0.088\n"
     ]
    }
   ],
   "source": [
    "net.train(X, Y, epochs=500, learning_rate=0.5)"
   ]
  }
 ],
 "metadata": {
  "kernelspec": {
   "display_name": "Python 3",
   "language": "python",
   "name": "python3"
  },
  "language_info": {
   "codemirror_mode": {
    "name": "ipython",
    "version": 3
   },
   "file_extension": ".py",
   "mimetype": "text/x-python",
   "name": "python",
   "nbconvert_exporter": "python",
   "pygments_lexer": "ipython3",
   "version": "3.7.3"
  }
 },
 "nbformat": 4,
 "nbformat_minor": 2
}
