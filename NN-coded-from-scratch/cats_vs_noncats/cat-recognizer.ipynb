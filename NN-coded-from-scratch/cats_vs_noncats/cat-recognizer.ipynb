{
 "cells": [
  {
   "cell_type": "markdown",
   "metadata": {},
   "source": [
    "# Coding a neural network from scratch\n",
    "Cat vs. non-cat"
   ]
  },
  {
   "cell_type": "code",
   "execution_count": 21,
   "metadata": {},
   "outputs": [],
   "source": [
    "import numpy as np\n",
    "import h5py\n",
    "import matplotlib.pyplot as plt"
   ]
  },
  {
   "cell_type": "code",
   "execution_count": 22,
   "metadata": {},
   "outputs": [],
   "source": [
    "def load_data():\n",
    "    train_dataset = h5py.File('train_catvnoncat.h5', 'r')\n",
    "    train_set_x_orig = np.array(train_dataset['train_set_x'][:])\n",
    "    train_set_y_orig = np.array(train_dataset['train_set_y'][:])\n",
    "\n",
    "    test_dataset = h5py.File('test_catvnoncat.h5', 'r')\n",
    "    test_set_x_orig = np.array(test_dataset['test_set_x'][:])\n",
    "    test_set_y_orig = np.array(test_dataset['test_set_y'][:])\n",
    "\n",
    "    classes = np.array(test_dataset['list_classes'][:])\n",
    "    \n",
    "    train_set_y_orig = train_set_y_orig.reshape((1, train_set_y_orig.shape[0]))\n",
    "    test_set_y_orig = test_set_y_orig.reshape((1, test_set_y_orig.shape[0]))\n",
    "\n",
    "    return train_set_x_orig, train_set_y_orig, test_set_x_orig, test_set_y_orig, classes"
   ]
  },
  {
   "cell_type": "code",
   "execution_count": 23,
   "metadata": {},
   "outputs": [],
   "source": [
    "def sigmoid(Z):\n",
    "    A = 1 / (1 + np.exp(-Z))\n",
    "    activ_cache = Z\n",
    "    return A, activ_cache\n",
    "\n",
    "def relu(Z):\n",
    "    A = np.maximum(0,Z)\n",
    "    activ_cache = Z\n",
    "    return A, activ_cache"
   ]
  },
  {
   "cell_type": "code",
   "execution_count": 104,
   "metadata": {},
   "outputs": [],
   "source": [
    "def initialize(layers_dims): #ex: layerdims = [12288, 5,5,5,1] => 1st input is the number of features\n",
    "    \n",
    "    L = len(layers_dims)\n",
    "    params = {}\n",
    "    \n",
    "    for i in range(1, L):\n",
    "        params['W' + str(i)] = np.random.randn(layers_dims[i], layers_dims[i-1]) / np.sqrt(layer_dims[i-1]) \n",
    "        params['b' + str(i)] = np.zeros((layers_dims[i],1))\n",
    "    \n",
    "    return params"
   ]
  },
  {
   "cell_type": "code",
   "execution_count": 25,
   "metadata": {},
   "outputs": [],
   "source": [
    "def linear_activation_forward(A_prev, W, b, activation): #type(activation) == string\n",
    "    \n",
    "    linear_cache = (A_prev, W, b)\n",
    "    assert W.shape[1] == A_prev.shape[0]\n",
    "    Z = np.dot(W,A_prev) + b\n",
    "    \n",
    "    if activation == \"relu\":\n",
    "        A, activ_cache = relu(Z)\n",
    "    elif activation == \"sigmoid\":\n",
    "        A, activ_cache = sigmoid(Z)\n",
    "    else:\n",
    "        raise Exception('{activation} function is not known'.format(activation))\n",
    "\n",
    "    cache = (linear_cache, activ_cache)\n",
    "    \n",
    "    return A, cache"
   ]
  },
  {
   "cell_type": "code",
   "execution_count": 26,
   "metadata": {},
   "outputs": [],
   "source": [
    "def L_model(X, params, activations, final_activ):\n",
    "    \n",
    "    L = len(params) // 2\n",
    "    caches = []\n",
    "    \n",
    "    A = X\n",
    "    \n",
    "    # L-1 premières couches\n",
    "    for l in range(1, L):\n",
    "        A_prev = A\n",
    "        A, cache = linear_activation_forward(A_prev, params['W' + str(l)], params['b' + str(l)], activations)\n",
    "        caches.append(cache)\n",
    "    \n",
    "    # L-ième couche\n",
    "    A, cache = linear_activation_forward(A, params['W' + str(L)], params['b' + str(L)], final_activ)\n",
    "    caches.append(cache)\n",
    "    \n",
    "    Yhat = A\n",
    "    \n",
    "    return Yhat, caches\n",
    "    # caches is a list containing L \"cache\" tupples, each one containing\n",
    "    # 1) lin_cache (with A_prev (activations for layer l-1), matrix W and \n",
    "    # vector b for layer l)\n",
    "    # 2) activ_cache (containing just Z for layer l)"
   ]
  },
  {
   "cell_type": "code",
   "execution_count": 27,
   "metadata": {},
   "outputs": [],
   "source": [
    "def compute_cost(Yhat,Y):\n",
    "    \n",
    "    m = Y.shape[1]\n",
    "    \n",
    "    # average of losses, computed through vector multiplication. Returns an array.\n",
    "    cost = (- 1. / m) * (np.dot(Y,np.log(Yhat).T) + np.dot((1 - Y),np.log(1 - Yhat).T))\n",
    "\n",
    "    # np.squeeze allows to remove a \"level\" of brackets\n",
    "    cost = np.squeeze(cost)\n",
    "    assert cost.shape == ()\n",
    "    \n",
    "    return cost"
   ]
  },
  {
   "cell_type": "code",
   "execution_count": 99,
   "metadata": {},
   "outputs": [],
   "source": [
    "def linear_backward(dZ, lin_cache):\n",
    "\n",
    "    A_prev, W, b = lin_cache\n",
    "    m = A_prev.shape[1]\n",
    "\n",
    "    dW = 1 / m * np.dot(dZ, A_prev.T)\n",
    "    db = 1 / m * np.sum(dZ, axis=1, keepdims=True)\n",
    "    dA_prev = np.dot(W.T, dZ)\n",
    "    \n",
    "    return dA_prev, dW, db"
   ]
  },
  {
   "cell_type": "code",
   "execution_count": 29,
   "metadata": {},
   "outputs": [],
   "source": [
    "def relu_backward(dA, Z):\n",
    "    assert len(Z) == len(dA)\n",
    "    dA_copy = np.array(dA, copy=True)\n",
    "    dA_copy[Z <= 0] = 0\n",
    "    return dA_copy\n",
    "\n",
    "def sigmoid_backward(dA, Z):\n",
    "    s, _ = sigmoid(Z)\n",
    "    dZ = dA * (s * (1 -s))\n",
    "    return dZ"
   ]
  },
  {
   "cell_type": "code",
   "execution_count": 30,
   "metadata": {},
   "outputs": [],
   "source": [
    "def lin_activation_backward(dA, cache, activation):\n",
    "    \n",
    "    lin_cache, activ_cache = cache\n",
    "    Z = activ_cache\n",
    "    \n",
    "    if activation == \"relu\":\n",
    "        dZ = relu_backward(dA, Z)\n",
    "    elif activation == \"sigmoid\":\n",
    "        dZ = sigmoid_backward(dA, Z)\n",
    "    else:\n",
    "        raise Exception('{activation} function is not known'.format(activation))\n",
    "\n",
    "    dA_prev, dW, db = linear_backward(dZ, lin_cache)\n",
    "    \n",
    "    return dA_prev, dW, db"
   ]
  },
  {
   "cell_type": "code",
   "execution_count": 31,
   "metadata": {},
   "outputs": [],
   "source": [
    "def L_model_backward(Yhat, Y, caches, activations, final_activ):\n",
    "    \n",
    "    grads = {}\n",
    "    L = len(caches)\n",
    "    m = Y.shape[1]    \n",
    "    \n",
    "    # grad of cost function relative to Yhat\n",
    "    dYhat = - (np.divide(Y, Yhat) - np.divide(1-Y, (1-Yhat))) \n",
    "    \n",
    "    # calculate grads for layer L-1\n",
    "    current_cache = caches[L-1]\n",
    "    grads[\"dA\" + str(L-1)], grads[\"dW\" + str(L)], grads[\"db\" + str(L)] = lin_activation_backward(dYhat, current_cache, final_activ)\n",
    "    \n",
    "    # calculating grads for layer L-2 through 1\n",
    "    for l in reversed(range(L-1)):\n",
    "        current_cache = caches[l]\n",
    "        grads[\"dA\" + str(l)], grads[\"dW\" + str(l+1)], grads[\"db\" + str(l+1)] = lin_activation_backward(grads[\"dA\" + str(l+1)], current_cache, activations)\n",
    "        \n",
    "    return grads"
   ]
  },
  {
   "cell_type": "code",
   "execution_count": 32,
   "metadata": {},
   "outputs": [],
   "source": [
    "def update_params(params, grads, learning_rate):\n",
    "    \n",
    "    L = len(params) // 2\n",
    "    \n",
    "    for l in range(1, L +1):\n",
    "        params['W' + str(l)] = params['W' + str(l)] - learning_rate * grads['dW' + str(l)]\n",
    "        params['b' + str(l)] = params['b' + str(l)] - learning_rate * grads['db' + str(l)]     \n",
    "    \n",
    "    return params"
   ]
  },
  {
   "cell_type": "code",
   "execution_count": 54,
   "metadata": {},
   "outputs": [],
   "source": [
    "def L_layer_model(X, Y, layer_dims, learning_rate, activations, final_activ, num_iterations, print_cost=True, show_plot=False):\n",
    "    \n",
    "    assert (layer_dims[0] == X.shape[0])\n",
    "\n",
    "    params = initialize(layer_dims) #reminder: layer_dims[0] = number of features\n",
    "    costs = []\n",
    "    \n",
    "    for it in range(1,num_iterations + 1):        \n",
    "        Yhat, caches = L_model(X, params, activations, final_activ) #forward pass        \n",
    "        cost = compute_cost(Yhat, Y) #compute cost of this state        \n",
    "        if print_cost and it % print_iter == 0:\n",
    "            print(\"Cost after {} iterations : {}\".format(it, cost))\n",
    "            costs.append(cost) #logs the cost every xx iterations\n",
    "        \n",
    "        grads = L_model_backward(Yhat, Y, caches, activations, final_activ)\n",
    "        update_params(params, grads, learning_rate)\n",
    "    \n",
    "    # optional visualization\n",
    "    if show_plot:\n",
    "        plt.plot(np.squeeze(costs))\n",
    "        plt.ylabel('cost')\n",
    "        plt.xlabel('iterations (per 1000s)')\n",
    "        plt.title(\"Learning rate =\" + str(learning_rate))\n",
    "        plt.show()\n",
    "\n",
    "    return params"
   ]
  },
  {
   "cell_type": "markdown",
   "metadata": {},
   "source": [
    "### Generating a dataset\n",
    "\n",
    "We generate binary tuples (X) and attribute to Y the result of a XOR evaluation, as follows:"
   ]
  },
  {
   "cell_type": "code",
   "execution_count": 55,
   "metadata": {},
   "outputs": [],
   "source": [
    "train_x_orig, train_y, test_x_orig, test_y, classes = load_data()\n",
    "\n",
    "train_x_flatten = train_x_orig.reshape(train_x_orig.shape[0], -1).T\n",
    "test_x_flatten = test_x_orig.reshape(test_x_orig.shape[0], -1).T\n",
    "\n",
    "train_x = train_x_flatten/255\n",
    "test_x = test_x_flatten/255"
   ]
  },
  {
   "cell_type": "markdown",
   "metadata": {},
   "source": [
    "### Running the model"
   ]
  },
  {
   "cell_type": "markdown",
   "metadata": {},
   "source": [
    "#### Hyperparameters"
   ]
  },
  {
   "cell_type": "code",
   "execution_count": 108,
   "metadata": {},
   "outputs": [],
   "source": [
    "num_iterations = 10000\n",
    "layer_dims = [12288, 7, 7, 5, 1]\n",
    "learning_rate = 0.001\n",
    "print_iter = 200\n",
    "activations=\"relu\"\n",
    "final_activ=\"sigmoid\""
   ]
  },
  {
   "cell_type": "markdown",
   "metadata": {},
   "source": [
    "First, let's try to launch it several times to see the reliability:"
   ]
  },
  {
   "cell_type": "code",
   "execution_count": 109,
   "metadata": {},
   "outputs": [
    {
     "name": "stdout",
     "output_type": "stream",
     "text": [
      ">>>> 0 <<<<<\n",
      "Cost after 200 iterations : 0.6274328518863297\n",
      "Cost after 400 iterations : 0.6007149088529384\n",
      "Cost after 600 iterations : 0.5665819995757262\n",
      "Cost after 800 iterations : 0.5335413330180966\n",
      "Cost after 1000 iterations : 0.5005315908553375\n",
      "Cost after 1200 iterations : 0.4734598660833881\n",
      "Cost after 1400 iterations : 0.4476188677507018\n",
      "Cost after 1600 iterations : 0.42208784146296974\n",
      "Cost after 1800 iterations : 0.3978559241307865\n",
      "Cost after 2000 iterations : 0.37364065842702193\n",
      "Cost after 2200 iterations : 0.3492208202119244\n",
      "Cost after 2400 iterations : 0.32801932543861195\n",
      "Cost after 2600 iterations : 0.3069134164198668\n",
      "Cost after 2800 iterations : 0.28766871550575573\n",
      "Cost after 3000 iterations : 0.26681690325303187\n",
      "Cost after 3200 iterations : 0.24959160912338307\n",
      "Cost after 3400 iterations : 0.23431992553233372\n",
      "Cost after 3600 iterations : 0.21804505307321265\n",
      "Cost after 3800 iterations : 0.20713131868873386\n",
      "Cost after 4000 iterations : 0.19249220136206405\n",
      "Cost after 4200 iterations : 0.18230163408203107\n",
      "Cost after 4400 iterations : 0.17918399326875534\n",
      "Cost after 4600 iterations : 0.16297002910573974\n",
      "Cost after 4800 iterations : 0.15478603774575778\n",
      "Cost after 5000 iterations : 0.1512607750520672\n",
      "Cost after 5200 iterations : 0.13799813982653122\n",
      "Cost after 5400 iterations : 0.13163375143489245\n",
      "Cost after 5600 iterations : 0.12686039732942242\n",
      "Cost after 5800 iterations : 0.12271508433283228\n",
      "Cost after 6000 iterations : 0.11209638934074555\n",
      "Cost after 6200 iterations : 0.1058955517628126\n",
      "Cost after 6400 iterations : 0.09968397112087965\n",
      "Cost after 6600 iterations : 0.09291040214934843\n",
      "Cost after 6800 iterations : 0.08462909443836467\n",
      "Cost after 7000 iterations : 0.07193539759415067\n",
      "Cost after 7200 iterations : 0.06136597361273412\n",
      "Cost after 7400 iterations : 0.052408343506367853\n",
      "Cost after 7600 iterations : 0.045065532983759704\n",
      "Cost after 7800 iterations : 0.03922405283303967\n",
      "Cost after 8000 iterations : 0.034851914226271555\n",
      "Cost after 8200 iterations : 0.03131300881625063\n",
      "Cost after 8400 iterations : 0.028187400733681322\n",
      "Cost after 8600 iterations : 0.02551727717682911\n",
      "Cost after 8800 iterations : 0.023284714388470656\n",
      "Cost after 9000 iterations : 0.021272747359793058\n",
      "Cost after 9200 iterations : 0.0195757586176254\n",
      "Cost after 9400 iterations : 0.01805029846836834\n",
      "Cost after 9600 iterations : 0.016713805898511666\n",
      "Cost after 9800 iterations : 0.015542951913580051\n",
      "Cost after 10000 iterations : 0.014513708188758344\n",
      ">>>> 1 <<<<<\n",
      "Cost after 200 iterations : 0.6889116971576795\n",
      "Cost after 400 iterations : 0.6837210547125584\n",
      "Cost after 600 iterations : 0.6791404175270299\n",
      "Cost after 800 iterations : 0.6749694844918882\n",
      "Cost after 1000 iterations : 0.6711523816910806\n",
      "Cost after 1200 iterations : 0.6676109436366275\n",
      "Cost after 1400 iterations : 0.6642800108626065\n",
      "Cost after 1600 iterations : 0.6609634680857566\n",
      "Cost after 1800 iterations : 0.657870133087332\n",
      "Cost after 2000 iterations : 0.65487880973574\n",
      "Cost after 2200 iterations : 0.6519335666921631\n",
      "Cost after 2400 iterations : 0.6490305442152158\n",
      "Cost after 2600 iterations : 0.6460834711074749\n",
      "Cost after 2800 iterations : 0.6431217737349877\n",
      "Cost after 3000 iterations : 0.6400917357146945\n",
      "Cost after 3200 iterations : 0.6368368285988317\n",
      "Cost after 3400 iterations : 0.633330970700803\n",
      "Cost after 3600 iterations : 0.6295465522799748\n",
      "Cost after 3800 iterations : 0.6253905388856545\n",
      "Cost after 4000 iterations : 0.6208438410004105\n",
      "Cost after 4200 iterations : 0.6157435205278401\n",
      "Cost after 4400 iterations : 0.6099575736282725\n",
      "Cost after 4600 iterations : 0.6034731380598446\n",
      "Cost after 4800 iterations : 0.5962288737336027\n",
      "Cost after 5000 iterations : 0.5881151840093072\n",
      "Cost after 5200 iterations : 0.5789675334997556\n",
      "Cost after 5400 iterations : 0.5688447494295057\n",
      "Cost after 5600 iterations : 0.5577914862948483\n",
      "Cost after 5800 iterations : 0.5453843279474692\n",
      "Cost after 6000 iterations : 0.5316529091573379\n",
      "Cost after 6200 iterations : 0.5170047156761624\n",
      "Cost after 6400 iterations : 0.501807747165167\n",
      "Cost after 6600 iterations : 0.48642413294076936\n",
      "Cost after 6800 iterations : 0.46996250591605454\n",
      "Cost after 7000 iterations : 0.45279870120552396\n",
      "Cost after 7200 iterations : 0.4368570353033075\n",
      "Cost after 7400 iterations : 0.4209040463079542\n",
      "Cost after 7600 iterations : 0.40430436005313364\n",
      "Cost after 7800 iterations : 0.38902774034823173\n",
      "Cost after 8000 iterations : 0.37534214562016294\n",
      "Cost after 8200 iterations : 0.3597398449199147\n",
      "Cost after 8400 iterations : 0.3469926318373288\n",
      "Cost after 8600 iterations : 0.33337656922148906\n",
      "Cost after 8800 iterations : 0.32123655902856835\n",
      "Cost after 9000 iterations : 0.30995047273023385\n",
      "Cost after 9200 iterations : 0.2985588149633627\n",
      "Cost after 9400 iterations : 0.2866466025400407\n",
      "Cost after 9600 iterations : 0.2762934901429942\n",
      "Cost after 9800 iterations : 0.2666830032929089\n",
      "Cost after 10000 iterations : 0.25682203622229155\n",
      ">>>> 2 <<<<<\n"
     ]
    },
    {
     "ename": "KeyboardInterrupt",
     "evalue": "",
     "output_type": "error",
     "traceback": [
      "\u001b[0;31m---------------------------------------------------------------------------\u001b[0m",
      "\u001b[0;31mKeyboardInterrupt\u001b[0m                         Traceback (most recent call last)",
      "\u001b[0;32m<ipython-input-109-a41b90baf453>\u001b[0m in \u001b[0;36m<module>\u001b[0;34m\u001b[0m\n\u001b[1;32m      1\u001b[0m \u001b[0;32mfor\u001b[0m \u001b[0mi\u001b[0m \u001b[0;32min\u001b[0m \u001b[0mrange\u001b[0m\u001b[0;34m(\u001b[0m\u001b[0;36m5\u001b[0m\u001b[0;34m)\u001b[0m\u001b[0;34m:\u001b[0m\u001b[0;34m\u001b[0m\u001b[0;34m\u001b[0m\u001b[0m\n\u001b[1;32m      2\u001b[0m     \u001b[0mprint\u001b[0m\u001b[0;34m(\u001b[0m\u001b[0;34m\">>>>\"\u001b[0m\u001b[0;34m,\u001b[0m \u001b[0mi\u001b[0m\u001b[0;34m,\u001b[0m \u001b[0;34m\"<<<<<\"\u001b[0m\u001b[0;34m)\u001b[0m\u001b[0;34m\u001b[0m\u001b[0;34m\u001b[0m\u001b[0m\n\u001b[0;32m----> 3\u001b[0;31m     \u001b[0mtrained_model\u001b[0m \u001b[0;34m=\u001b[0m \u001b[0mL_layer_model\u001b[0m\u001b[0;34m(\u001b[0m\u001b[0mtrain_x\u001b[0m\u001b[0;34m,\u001b[0m \u001b[0mtrain_y\u001b[0m\u001b[0;34m,\u001b[0m \u001b[0mlayer_dims\u001b[0m\u001b[0;34m,\u001b[0m \u001b[0mlearning_rate\u001b[0m\u001b[0;34m,\u001b[0m \u001b[0mactivations\u001b[0m\u001b[0;34m,\u001b[0m \u001b[0mfinal_activ\u001b[0m\u001b[0;34m,\u001b[0m \u001b[0mnum_iterations\u001b[0m\u001b[0;34m)\u001b[0m\u001b[0;34m\u001b[0m\u001b[0;34m\u001b[0m\u001b[0m\n\u001b[0m",
      "\u001b[0;32m<ipython-input-54-ca82f35e0ea2>\u001b[0m in \u001b[0;36mL_layer_model\u001b[0;34m(X, Y, layer_dims, learning_rate, activations, final_activ, num_iterations, print_cost, show_plot)\u001b[0m\n\u001b[1;32m      7\u001b[0m \u001b[0;34m\u001b[0m\u001b[0m\n\u001b[1;32m      8\u001b[0m     \u001b[0;32mfor\u001b[0m \u001b[0mit\u001b[0m \u001b[0;32min\u001b[0m \u001b[0mrange\u001b[0m\u001b[0;34m(\u001b[0m\u001b[0;36m1\u001b[0m\u001b[0;34m,\u001b[0m\u001b[0mnum_iterations\u001b[0m \u001b[0;34m+\u001b[0m \u001b[0;36m1\u001b[0m\u001b[0;34m)\u001b[0m\u001b[0;34m:\u001b[0m\u001b[0;34m\u001b[0m\u001b[0;34m\u001b[0m\u001b[0m\n\u001b[0;32m----> 9\u001b[0;31m         \u001b[0mYhat\u001b[0m\u001b[0;34m,\u001b[0m \u001b[0mcaches\u001b[0m \u001b[0;34m=\u001b[0m \u001b[0mL_model\u001b[0m\u001b[0;34m(\u001b[0m\u001b[0mX\u001b[0m\u001b[0;34m,\u001b[0m \u001b[0mparams\u001b[0m\u001b[0;34m,\u001b[0m \u001b[0mactivations\u001b[0m\u001b[0;34m,\u001b[0m \u001b[0mfinal_activ\u001b[0m\u001b[0;34m)\u001b[0m \u001b[0;31m#forward pass\u001b[0m\u001b[0;34m\u001b[0m\u001b[0;34m\u001b[0m\u001b[0m\n\u001b[0m\u001b[1;32m     10\u001b[0m         \u001b[0mcost\u001b[0m \u001b[0;34m=\u001b[0m \u001b[0mcompute_cost\u001b[0m\u001b[0;34m(\u001b[0m\u001b[0mYhat\u001b[0m\u001b[0;34m,\u001b[0m \u001b[0mY\u001b[0m\u001b[0;34m)\u001b[0m \u001b[0;31m#compute cost of this state\u001b[0m\u001b[0;34m\u001b[0m\u001b[0;34m\u001b[0m\u001b[0m\n\u001b[1;32m     11\u001b[0m         \u001b[0;32mif\u001b[0m \u001b[0mprint_cost\u001b[0m \u001b[0;32mand\u001b[0m \u001b[0mit\u001b[0m \u001b[0;34m%\u001b[0m \u001b[0mprint_iter\u001b[0m \u001b[0;34m==\u001b[0m \u001b[0;36m0\u001b[0m\u001b[0;34m:\u001b[0m\u001b[0;34m\u001b[0m\u001b[0;34m\u001b[0m\u001b[0m\n",
      "\u001b[0;32m<ipython-input-26-62022f52cc72>\u001b[0m in \u001b[0;36mL_model\u001b[0;34m(X, params, activations, final_activ)\u001b[0m\n\u001b[1;32m      9\u001b[0m     \u001b[0;32mfor\u001b[0m \u001b[0ml\u001b[0m \u001b[0;32min\u001b[0m \u001b[0mrange\u001b[0m\u001b[0;34m(\u001b[0m\u001b[0;36m1\u001b[0m\u001b[0;34m,\u001b[0m \u001b[0mL\u001b[0m\u001b[0;34m)\u001b[0m\u001b[0;34m:\u001b[0m\u001b[0;34m\u001b[0m\u001b[0;34m\u001b[0m\u001b[0m\n\u001b[1;32m     10\u001b[0m         \u001b[0mA_prev\u001b[0m \u001b[0;34m=\u001b[0m \u001b[0mA\u001b[0m\u001b[0;34m\u001b[0m\u001b[0;34m\u001b[0m\u001b[0m\n\u001b[0;32m---> 11\u001b[0;31m         \u001b[0mA\u001b[0m\u001b[0;34m,\u001b[0m \u001b[0mcache\u001b[0m \u001b[0;34m=\u001b[0m \u001b[0mlinear_activation_forward\u001b[0m\u001b[0;34m(\u001b[0m\u001b[0mA_prev\u001b[0m\u001b[0;34m,\u001b[0m \u001b[0mparams\u001b[0m\u001b[0;34m[\u001b[0m\u001b[0;34m'W'\u001b[0m \u001b[0;34m+\u001b[0m \u001b[0mstr\u001b[0m\u001b[0;34m(\u001b[0m\u001b[0ml\u001b[0m\u001b[0;34m)\u001b[0m\u001b[0;34m]\u001b[0m\u001b[0;34m,\u001b[0m \u001b[0mparams\u001b[0m\u001b[0;34m[\u001b[0m\u001b[0;34m'b'\u001b[0m \u001b[0;34m+\u001b[0m \u001b[0mstr\u001b[0m\u001b[0;34m(\u001b[0m\u001b[0ml\u001b[0m\u001b[0;34m)\u001b[0m\u001b[0;34m]\u001b[0m\u001b[0;34m,\u001b[0m \u001b[0mactivations\u001b[0m\u001b[0;34m)\u001b[0m\u001b[0;34m\u001b[0m\u001b[0;34m\u001b[0m\u001b[0m\n\u001b[0m\u001b[1;32m     12\u001b[0m         \u001b[0mcaches\u001b[0m\u001b[0;34m.\u001b[0m\u001b[0mappend\u001b[0m\u001b[0;34m(\u001b[0m\u001b[0mcache\u001b[0m\u001b[0;34m)\u001b[0m\u001b[0;34m\u001b[0m\u001b[0;34m\u001b[0m\u001b[0m\n\u001b[1;32m     13\u001b[0m \u001b[0;34m\u001b[0m\u001b[0m\n",
      "\u001b[0;32m<ipython-input-25-1732fbc118c0>\u001b[0m in \u001b[0;36mlinear_activation_forward\u001b[0;34m(A_prev, W, b, activation)\u001b[0m\n\u001b[1;32m      3\u001b[0m     \u001b[0mlinear_cache\u001b[0m \u001b[0;34m=\u001b[0m \u001b[0;34m(\u001b[0m\u001b[0mA_prev\u001b[0m\u001b[0;34m,\u001b[0m \u001b[0mW\u001b[0m\u001b[0;34m,\u001b[0m \u001b[0mb\u001b[0m\u001b[0;34m)\u001b[0m\u001b[0;34m\u001b[0m\u001b[0;34m\u001b[0m\u001b[0m\n\u001b[1;32m      4\u001b[0m     \u001b[0;32massert\u001b[0m \u001b[0mW\u001b[0m\u001b[0;34m.\u001b[0m\u001b[0mshape\u001b[0m\u001b[0;34m[\u001b[0m\u001b[0;36m1\u001b[0m\u001b[0;34m]\u001b[0m \u001b[0;34m==\u001b[0m \u001b[0mA_prev\u001b[0m\u001b[0;34m.\u001b[0m\u001b[0mshape\u001b[0m\u001b[0;34m[\u001b[0m\u001b[0;36m0\u001b[0m\u001b[0;34m]\u001b[0m\u001b[0;34m\u001b[0m\u001b[0;34m\u001b[0m\u001b[0m\n\u001b[0;32m----> 5\u001b[0;31m     \u001b[0mZ\u001b[0m \u001b[0;34m=\u001b[0m \u001b[0mnp\u001b[0m\u001b[0;34m.\u001b[0m\u001b[0mdot\u001b[0m\u001b[0;34m(\u001b[0m\u001b[0mW\u001b[0m\u001b[0;34m,\u001b[0m\u001b[0mA_prev\u001b[0m\u001b[0;34m)\u001b[0m \u001b[0;34m+\u001b[0m \u001b[0mb\u001b[0m\u001b[0;34m\u001b[0m\u001b[0;34m\u001b[0m\u001b[0m\n\u001b[0m\u001b[1;32m      6\u001b[0m \u001b[0;34m\u001b[0m\u001b[0m\n\u001b[1;32m      7\u001b[0m     \u001b[0;32mif\u001b[0m \u001b[0mactivation\u001b[0m \u001b[0;34m==\u001b[0m \u001b[0;34m\"relu\"\u001b[0m\u001b[0;34m:\u001b[0m\u001b[0;34m\u001b[0m\u001b[0;34m\u001b[0m\u001b[0m\n",
      "\u001b[0;31mKeyboardInterrupt\u001b[0m: "
     ]
    }
   ],
   "source": [
    "for i in range(5):\n",
    "    print(\">>>>\", i, \"<<<<<\")\n",
    "    trained_model = L_layer_model(train_x, train_y, layer_dims, learning_rate, activations, final_activ, num_iterations)"
   ]
  },
  {
   "cell_type": "code",
   "execution_count": 18,
   "metadata": {},
   "outputs": [
    {
     "data": {
      "text/plain": [
       "'\\nfor i in range(5):\\n    print(\">>>>>>>\", i + 1, \"<<<<<<<\")\\n    X_train, Y_train = new_xor_dataset(5000)\\n    trained_model = L_layer_model(X_train, Y_train, layer_dims, learning_rate, activations, final_activ, num_iterations)\\n    print()\\n'"
      ]
     },
     "execution_count": 18,
     "metadata": {},
     "output_type": "execute_result"
    }
   ],
   "source": [
    "'''\n",
    "for i in range(5):\n",
    "    print(\">>>>>>>\", i + 1, \"<<<<<<<\")\n",
    "    X_train, Y_train = new_xor_dataset(5000)\n",
    "    trained_model = L_layer_model(X_train, Y_train, layer_dims, learning_rate, activations, final_activ, num_iterations)\n",
    "    print()\n",
    "'''"
   ]
  },
  {
   "cell_type": "markdown",
   "metadata": {},
   "source": [
    "Seems pretty unreliable, the cost varies a lot. This may have to do with the initialization of our weights ; we'll have to see this.\n",
    "\n",
    "Meanwhile, let's try to assess the performance of our model with regards to accuracy."
   ]
  },
  {
   "cell_type": "markdown",
   "metadata": {},
   "source": [
    "#### Getting parameters"
   ]
  },
  {
   "cell_type": "code",
   "execution_count": 17,
   "metadata": {},
   "outputs": [
    {
     "name": "stdout",
     "output_type": "stream",
     "text": [
      "Cost after 1000 iterations : 0.0007405144717997071\n",
      "Cost after 2000 iterations : 0.00035292978326913004\n",
      "Cost after 3000 iterations : 0.00023039029075513874\n",
      "Cost after 4000 iterations : 0.00017055699625922162\n",
      "Cost after 5000 iterations : 0.00013526008651966755\n"
     ]
    }
   ],
   "source": [
    "X_train, Y_train = new_xor_dataset(5000)\n",
    "trained_model = L_layer_model(X_train, Y_train, layer_dims, learning_rate, activations, final_activ, num_iterations)\n"
   ]
  },
  {
   "cell_type": "markdown",
   "metadata": {},
   "source": [
    "#### 'predict' function and appraisal of performance with these weights"
   ]
  },
  {
   "cell_type": "code",
   "execution_count": 18,
   "metadata": {},
   "outputs": [],
   "source": [
    "def test_pred(X, Y, params):\n",
    "    \"\"\"\n",
    "    Arguments:\n",
    "    X -- data set of examples you would like to label\n",
    "    parameters -- parameters of the trained model\n",
    "\n",
    "    Returns:\n",
    "    p -- predictions for the given dataset X\n",
    "    \"\"\"\n",
    "\n",
    "    m = X.shape[1]\n",
    "    p = np.zeros((1,m))\n",
    "\n",
    "    # Forward propagation\n",
    "    probas, caches = L_model(X, params, activations, final_activ)\n",
    "\n",
    "\n",
    "    # convert probas to 0/1 predictions\n",
    "    for i in range(0, probas.shape[1]):\n",
    "        if probas[0,i] > 0.5:\n",
    "            p[0,i] = 1\n",
    "        else:\n",
    "            p[0,i] = 0\n",
    "\n",
    "    #print results\n",
    "    #print (\"predictions: \" + str(p))\n",
    "    #print (\"true labels: \" + str(y))\n",
    "    print(\"Accuracy: \"  + str(np.sum((p[0] == Y[0]))/m))\n",
    "\n",
    "    return Y, p"
   ]
  },
  {
   "cell_type": "code",
   "execution_count": 19,
   "metadata": {},
   "outputs": [
    {
     "name": "stdout",
     "output_type": "stream",
     "text": [
      "Accuracy: 1.0\n"
     ]
    },
    {
     "data": {
      "text/plain": [
       "(array([[0, 0, 0, 1, 1, 1, 1, 1, 1, 1, 0, 0, 1, 0, 0, 0, 0, 0, 1, 1, 1, 0,\n",
       "         0, 0, 0, 0, 0, 1, 0, 0, 0, 1, 0, 1, 0, 1, 1, 1, 1, 1, 1, 0, 1, 0,\n",
       "         1, 0, 1, 1, 0, 1, 0, 0, 0, 0, 0, 1, 1, 1, 0, 1, 0, 0, 1, 0, 1, 1,\n",
       "         0, 0, 0, 0, 1, 1, 1, 0, 0, 0, 0, 1, 1, 0, 1, 0, 1, 1, 0, 1, 0, 0,\n",
       "         0, 1, 1, 1, 1, 1, 0, 1, 1, 0, 0, 1, 1, 0, 0, 0, 1, 0, 0, 0, 0, 0,\n",
       "         1, 0, 0, 1, 1, 0, 1, 1, 0, 0, 0, 1, 0, 1, 1, 1, 0, 1, 0, 0, 0, 0,\n",
       "         1, 1, 1, 0, 1, 1, 1, 1, 1, 0, 1, 0, 1, 0, 0, 1, 1, 0, 1, 1, 0, 1,\n",
       "         1, 0, 1, 0, 1, 0, 1, 1, 0, 0, 0, 0, 0, 1, 0, 1, 0, 0, 0, 1, 0, 0,\n",
       "         0, 1, 0, 1, 1, 0, 0, 0, 1, 0, 0, 1, 1, 0, 1, 1, 1, 0, 0, 0, 1, 0,\n",
       "         0, 1, 0, 1, 0, 1, 0, 0, 1, 0, 0, 0, 0, 1, 1, 0, 1, 0, 0, 1, 1, 0,\n",
       "         0, 0, 1, 1, 0, 0, 0, 0, 0, 0, 1, 0, 1, 1, 1, 1, 0, 1, 1, 0, 1, 1,\n",
       "         0, 0, 0, 0, 1, 0, 1, 0]]),\n",
       " array([[0., 0., 0., 1., 1., 1., 1., 1., 1., 1., 0., 0., 1., 0., 0., 0.,\n",
       "         0., 0., 1., 1., 1., 0., 0., 0., 0., 0., 0., 1., 0., 0., 0., 1.,\n",
       "         0., 1., 0., 1., 1., 1., 1., 1., 1., 0., 1., 0., 1., 0., 1., 1.,\n",
       "         0., 1., 0., 0., 0., 0., 0., 1., 1., 1., 0., 1., 0., 0., 1., 0.,\n",
       "         1., 1., 0., 0., 0., 0., 1., 1., 1., 0., 0., 0., 0., 1., 1., 0.,\n",
       "         1., 0., 1., 1., 0., 1., 0., 0., 0., 1., 1., 1., 1., 1., 0., 1.,\n",
       "         1., 0., 0., 1., 1., 0., 0., 0., 1., 0., 0., 0., 0., 0., 1., 0.,\n",
       "         0., 1., 1., 0., 1., 1., 0., 0., 0., 1., 0., 1., 1., 1., 0., 1.,\n",
       "         0., 0., 0., 0., 1., 1., 1., 0., 1., 1., 1., 1., 1., 0., 1., 0.,\n",
       "         1., 0., 0., 1., 1., 0., 1., 1., 0., 1., 1., 0., 1., 0., 1., 0.,\n",
       "         1., 1., 0., 0., 0., 0., 0., 1., 0., 1., 0., 0., 0., 1., 0., 0.,\n",
       "         0., 1., 0., 1., 1., 0., 0., 0., 1., 0., 0., 1., 1., 0., 1., 1.,\n",
       "         1., 0., 0., 0., 1., 0., 0., 1., 0., 1., 0., 1., 0., 0., 1., 0.,\n",
       "         0., 0., 0., 1., 1., 0., 1., 0., 0., 1., 1., 0., 0., 0., 1., 1.,\n",
       "         0., 0., 0., 0., 0., 0., 1., 0., 1., 1., 1., 1., 0., 1., 1., 0.,\n",
       "         1., 1., 0., 0., 0., 0., 1., 0., 1., 0.]]))"
      ]
     },
     "execution_count": 19,
     "metadata": {},
     "output_type": "execute_result"
    }
   ],
   "source": [
    "X_test, Y_test = new_xor_dataset(250)\n",
    "launchtest_pred(X_test, Y_test, trained_model)"
   ]
  }
 ],
 "metadata": {
  "kernelspec": {
   "display_name": "Python 3",
   "language": "python",
   "name": "python3"
  },
  "language_info": {
   "codemirror_mode": {
    "name": "ipython",
    "version": 3
   },
   "file_extension": ".py",
   "mimetype": "text/x-python",
   "name": "python",
   "nbconvert_exporter": "python",
   "pygments_lexer": "ipython3",
   "version": "3.7.3"
  }
 },
 "nbformat": 4,
 "nbformat_minor": 2
}
