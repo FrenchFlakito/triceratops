{
 "cells": [
  {
   "cell_type": "markdown",
   "metadata": {},
   "source": [
    "# Cat vs. non-cat\n",
    "#### Coding a neural network from scratch\n",
    "*Spoiler alert: serious case of overfitting!*"
   ]
  },
  {
   "cell_type": "code",
   "execution_count": 4,
   "metadata": {},
   "outputs": [],
   "source": [
    "import numpy as np\n",
    "import h5py\n",
    "import matplotlib.pyplot as plt"
   ]
  },
  {
   "cell_type": "code",
   "execution_count": 5,
   "metadata": {},
   "outputs": [],
   "source": [
    "def load_data():\n",
    "    train_dataset = h5py.File('train_catvnoncat.h5', 'r')\n",
    "    train_set_x_orig = np.array(train_dataset['train_set_x'][:])\n",
    "    train_set_y_orig = np.array(train_dataset['train_set_y'][:])\n",
    "\n",
    "    test_dataset = h5py.File('test_catvnoncat.h5', 'r')\n",
    "    test_set_x_orig = np.array(test_dataset['test_set_x'][:])\n",
    "    test_set_y_orig = np.array(test_dataset['test_set_y'][:])\n",
    "\n",
    "    classes = np.array(test_dataset['list_classes'][:])\n",
    "    \n",
    "    train_set_y_orig = train_set_y_orig.reshape((1, train_set_y_orig.shape[0]))\n",
    "    test_set_y_orig = test_set_y_orig.reshape((1, test_set_y_orig.shape[0]))\n",
    "\n",
    "    return train_set_x_orig, train_set_y_orig, test_set_x_orig, test_set_y_orig, classes"
   ]
  },
  {
   "cell_type": "code",
   "execution_count": 6,
   "metadata": {},
   "outputs": [],
   "source": [
    "def sigmoid(Z):\n",
    "    A = 1 / (1 + np.exp(-Z))\n",
    "    activ_cache = Z\n",
    "    return A, activ_cache\n",
    "\n",
    "def relu(Z):\n",
    "    A = np.maximum(0,Z)\n",
    "    activ_cache = Z\n",
    "    return A, activ_cache"
   ]
  },
  {
   "cell_type": "code",
   "execution_count": 7,
   "metadata": {},
   "outputs": [],
   "source": [
    "def initialize(layers_dims): #ex: layerdims = [12288, 5,5,5,1] => 1st input is the number of features\n",
    "    \n",
    "    L = len(layers_dims)\n",
    "    params = {}\n",
    "    \n",
    "    for i in range(1, L):\n",
    "        params['W' + str(i)] = np.random.randn(layers_dims[i], layers_dims[i-1]) / np.sqrt(layer_dims[i-1]) \n",
    "        params['b' + str(i)] = np.zeros((layers_dims[i],1))\n",
    "    \n",
    "    return params"
   ]
  },
  {
   "cell_type": "code",
   "execution_count": 8,
   "metadata": {},
   "outputs": [],
   "source": [
    "def linear_activation_forward(A_prev, W, b, activation): #type(activation) == string\n",
    "    \n",
    "    linear_cache = (A_prev, W, b)\n",
    "    assert W.shape[1] == A_prev.shape[0]\n",
    "    Z = np.dot(W,A_prev) + b\n",
    "    \n",
    "    if activation == \"relu\":\n",
    "        A, activ_cache = relu(Z)\n",
    "    elif activation == \"sigmoid\":\n",
    "        A, activ_cache = sigmoid(Z)\n",
    "    else:\n",
    "        raise Exception('{activation} function is not known'.format(activation))\n",
    "\n",
    "    cache = (linear_cache, activ_cache)\n",
    "    \n",
    "    return A, cache"
   ]
  },
  {
   "cell_type": "code",
   "execution_count": 9,
   "metadata": {},
   "outputs": [],
   "source": [
    "def L_model(X, params, activations, final_activ):\n",
    "    \n",
    "    L = len(params) // 2\n",
    "    caches = []\n",
    "    \n",
    "    A = X\n",
    "    \n",
    "    # L-1 premières couches\n",
    "    for l in range(1, L):\n",
    "        A_prev = A\n",
    "        A, cache = linear_activation_forward(A_prev, params['W' + str(l)], params['b' + str(l)], activations)\n",
    "        caches.append(cache)\n",
    "    \n",
    "    # L-ième couche\n",
    "    A, cache = linear_activation_forward(A, params['W' + str(L)], params['b' + str(L)], final_activ)\n",
    "    caches.append(cache)\n",
    "    \n",
    "    Yhat = A\n",
    "    \n",
    "    return Yhat, caches\n",
    "    # caches is a list containing L \"cache\" tupples, each one containing\n",
    "    # 1) lin_cache (with A_prev (activations for layer l-1), matrix W and \n",
    "    # vector b for layer l)\n",
    "    # 2) activ_cache (containing just Z for layer l)"
   ]
  },
  {
   "cell_type": "code",
   "execution_count": 10,
   "metadata": {},
   "outputs": [],
   "source": [
    "def compute_cost(Yhat,Y):\n",
    "    \n",
    "    m = Y.shape[1]\n",
    "    \n",
    "    # average of losses, computed through vector multiplication. Returns an array.\n",
    "    cost = (- 1. / m) * (np.dot(Y,np.log(Yhat).T) + np.dot((1 - Y),np.log(1 - Yhat).T))\n",
    "\n",
    "    # np.squeeze allows to remove a \"level\" of brackets\n",
    "    cost = np.squeeze(cost)\n",
    "    assert cost.shape == ()\n",
    "    \n",
    "    return cost"
   ]
  },
  {
   "cell_type": "code",
   "execution_count": 11,
   "metadata": {},
   "outputs": [],
   "source": [
    "def linear_backward(dZ, lin_cache):\n",
    "\n",
    "    A_prev, W, b = lin_cache\n",
    "    m = A_prev.shape[1]\n",
    "\n",
    "    dW = 1 / m * np.dot(dZ, A_prev.T)\n",
    "    db = 1 / m * np.sum(dZ, axis=1, keepdims=True)\n",
    "    dA_prev = np.dot(W.T, dZ)\n",
    "    \n",
    "    return dA_prev, dW, db"
   ]
  },
  {
   "cell_type": "code",
   "execution_count": 12,
   "metadata": {},
   "outputs": [],
   "source": [
    "def relu_backward(dA, Z):\n",
    "    assert len(Z) == len(dA)\n",
    "    dA_copy = np.array(dA, copy=True)\n",
    "    dA_copy[Z <= 0] = 0\n",
    "    return dA_copy\n",
    "\n",
    "def sigmoid_backward(dA, Z):\n",
    "    s, _ = sigmoid(Z)\n",
    "    dZ = dA * (s * (1 -s))\n",
    "    return dZ"
   ]
  },
  {
   "cell_type": "code",
   "execution_count": 13,
   "metadata": {},
   "outputs": [],
   "source": [
    "def lin_activation_backward(dA, cache, activation):\n",
    "    \n",
    "    lin_cache, activ_cache = cache\n",
    "    Z = activ_cache\n",
    "    \n",
    "    if activation == \"relu\":\n",
    "        dZ = relu_backward(dA, Z)\n",
    "    elif activation == \"sigmoid\":\n",
    "        dZ = sigmoid_backward(dA, Z)\n",
    "    else:\n",
    "        raise Exception('{activation} function is not known'.format(activation))\n",
    "\n",
    "    dA_prev, dW, db = linear_backward(dZ, lin_cache)\n",
    "    \n",
    "    return dA_prev, dW, db"
   ]
  },
  {
   "cell_type": "code",
   "execution_count": 14,
   "metadata": {},
   "outputs": [],
   "source": [
    "def L_model_backward(Yhat, Y, caches, activations, final_activ):\n",
    "    \n",
    "    grads = {}\n",
    "    L = len(caches)\n",
    "    m = Y.shape[1]    \n",
    "    \n",
    "    # grad of cost function relative to Yhat\n",
    "    dYhat = - (np.divide(Y, Yhat) - np.divide(1-Y, (1-Yhat))) \n",
    "    \n",
    "    # calculate grads for layer L-1\n",
    "    current_cache = caches[L-1]\n",
    "    grads[\"dA\" + str(L-1)], grads[\"dW\" + str(L)], grads[\"db\" + str(L)] = lin_activation_backward(dYhat, current_cache, final_activ)\n",
    "    \n",
    "    # calculating grads for layer L-2 through 1\n",
    "    for l in reversed(range(L-1)):\n",
    "        current_cache = caches[l]\n",
    "        grads[\"dA\" + str(l)], grads[\"dW\" + str(l+1)], grads[\"db\" + str(l+1)] = lin_activation_backward(grads[\"dA\" + str(l+1)], current_cache, activations)\n",
    "        \n",
    "    return grads"
   ]
  },
  {
   "cell_type": "code",
   "execution_count": 15,
   "metadata": {},
   "outputs": [],
   "source": [
    "def update_params(params, grads, learning_rate):\n",
    "    \n",
    "    L = len(params) // 2\n",
    "    \n",
    "    for l in range(1, L +1):\n",
    "        params['W' + str(l)] = params['W' + str(l)] - learning_rate * grads['dW' + str(l)]\n",
    "        params['b' + str(l)] = params['b' + str(l)] - learning_rate * grads['db' + str(l)]     \n",
    "    \n",
    "    return params"
   ]
  },
  {
   "cell_type": "code",
   "execution_count": 16,
   "metadata": {},
   "outputs": [],
   "source": [
    "def L_layer_model(X, Y, layer_dims, learning_rate, activations, final_activ, num_iterations, print_cost=True, show_plot=False):\n",
    "    \n",
    "    assert (layer_dims[0] == X.shape[0])\n",
    "\n",
    "    params = initialize(layer_dims) #reminder: layer_dims[0] = number of features\n",
    "    costs = []\n",
    "    \n",
    "    for it in range(1,num_iterations + 1):        \n",
    "        Yhat, caches = L_model(X, params, activations, final_activ) #forward pass        \n",
    "        cost = compute_cost(Yhat, Y) #compute cost of this state        \n",
    "        if print_cost and it % print_iter == 0:\n",
    "            print(\"Cost after {} iterations : {}\".format(it, cost))\n",
    "            costs.append(cost) #logs the cost every xx iterations\n",
    "        \n",
    "        grads = L_model_backward(Yhat, Y, caches, activations, final_activ)\n",
    "        update_params(params, grads, learning_rate)\n",
    "    \n",
    "    # optional visualization\n",
    "    if show_plot:\n",
    "        plt.plot(np.squeeze(costs))\n",
    "        plt.ylabel('cost')\n",
    "        plt.xlabel('iterations (per 1000s)')\n",
    "        plt.title(\"Learning rate =\" + str(learning_rate))\n",
    "        plt.show()\n",
    "\n",
    "    return params"
   ]
  },
  {
   "cell_type": "markdown",
   "metadata": {},
   "source": [
    "### Generating a dataset\n",
    "\n",
    "We generate binary tuples (X) and attribute to Y the result of a XOR evaluation, as follows:"
   ]
  },
  {
   "cell_type": "code",
   "execution_count": 17,
   "metadata": {},
   "outputs": [],
   "source": [
    "train_x_orig, train_y, test_x_orig, test_y, classes = load_data()\n",
    "\n",
    "train_x_flatten = train_x_orig.reshape(train_x_orig.shape[0], -1).T\n",
    "test_x_flatten = test_x_orig.reshape(test_x_orig.shape[0], -1).T\n",
    "\n",
    "train_x = train_x_flatten/255\n",
    "test_x = test_x_flatten/255"
   ]
  },
  {
   "cell_type": "markdown",
   "metadata": {},
   "source": [
    "### Running the model"
   ]
  },
  {
   "cell_type": "markdown",
   "metadata": {},
   "source": [
    "#### Hyperparameters"
   ]
  },
  {
   "cell_type": "code",
   "execution_count": 21,
   "metadata": {},
   "outputs": [],
   "source": [
    "num_iterations = 2000\n",
    "layer_dims = [12288, 7, 7, 5, 1]\n",
    "learning_rate = 0.01\n",
    "print_iter = 250\n",
    "activations=\"relu\"\n",
    "final_activ=\"sigmoid\""
   ]
  },
  {
   "cell_type": "markdown",
   "metadata": {},
   "source": [
    "First, let's try to launch it several times to see the reliability:"
   ]
  },
  {
   "cell_type": "code",
   "execution_count": 22,
   "metadata": {},
   "outputs": [
    {
     "name": "stdout",
     "output_type": "stream",
     "text": [
      ">>>> 0 <<<<<\n",
      "Cost after 250 iterations : 0.5333951485928804\n",
      "Cost after 500 iterations : 0.5259052663649282\n",
      "Cost after 750 iterations : 0.33809760967591485\n",
      "Cost after 1000 iterations : 0.048566322244869224\n",
      "Cost after 1250 iterations : 0.014633329122023076\n",
      "Cost after 1500 iterations : 0.007437215293787577\n",
      "Cost after 1750 iterations : 0.004637068923818518\n",
      "Cost after 2000 iterations : 0.0032421468967496936\n",
      ">>>> 1 <<<<<\n",
      "Cost after 250 iterations : 0.5770656981665404\n",
      "Cost after 500 iterations : 0.3497382374613005\n",
      "Cost after 750 iterations : 0.14538478442748323\n",
      "Cost after 1000 iterations : 0.5820250492445604\n",
      "Cost after 1250 iterations : 0.018684252057648804\n",
      "Cost after 1500 iterations : 0.009803262347692998\n",
      "Cost after 1750 iterations : 0.006225326292736658\n",
      "Cost after 2000 iterations : 0.004398034918380499\n",
      ">>>> 2 <<<<<\n",
      "Cost after 250 iterations : 0.48565874499084993\n",
      "Cost after 500 iterations : 0.44270085549303284\n",
      "Cost after 750 iterations : 0.1549034988166938\n",
      "Cost after 1000 iterations : 0.405193389900943\n",
      "Cost after 1250 iterations : 0.017758289091435422\n",
      "Cost after 1500 iterations : 0.00795177810486638\n",
      "Cost after 1750 iterations : 0.005123447646460914\n",
      "Cost after 2000 iterations : 0.003770666312479829\n"
     ]
    }
   ],
   "source": [
    "for i in range(3):\n",
    "    print(\">>>>\", i, \"<<<<<\")\n",
    "    trained_model = L_layer_model(train_x, train_y, layer_dims, learning_rate, activations, final_activ, num_iterations)"
   ]
  },
  {
   "cell_type": "markdown",
   "metadata": {},
   "source": [
    "Now, let's try to assess the performance of our model with regards to accuracy."
   ]
  },
  {
   "cell_type": "markdown",
   "metadata": {},
   "source": [
    "#### Getting parameters"
   ]
  },
  {
   "cell_type": "code",
   "execution_count": 24,
   "metadata": {},
   "outputs": [
    {
     "name": "stdout",
     "output_type": "stream",
     "text": [
      "Cost after 250 iterations : 0.6274862791579834\n",
      "Cost after 500 iterations : 0.5058889361837662\n",
      "Cost after 750 iterations : 0.36188655778637524\n",
      "Cost after 1000 iterations : 0.4660055438743584\n",
      "Cost after 1250 iterations : 0.18841296348449973\n",
      "Cost after 1500 iterations : 1.0143950021901962\n",
      "Cost after 1750 iterations : 0.10627131913299245\n",
      "Cost after 2000 iterations : 0.09511278122987296\n"
     ]
    }
   ],
   "source": [
    "trained_model = L_layer_model(train_x, train_y, layer_dims, learning_rate, activations, final_activ, num_iterations)\n"
   ]
  },
  {
   "cell_type": "markdown",
   "metadata": {},
   "source": [
    "#### 'predict' function and appraisal of performance with these weights"
   ]
  },
  {
   "cell_type": "code",
   "execution_count": 26,
   "metadata": {},
   "outputs": [],
   "source": [
    "def test_pred(X, Y, params):\n",
    "    \"\"\"\n",
    "    Arguments:\n",
    "    X -- data set of examples you would like to label\n",
    "    parameters -- parameters of the trained model\n",
    "\n",
    "    Returns:\n",
    "    p -- predictions for the given dataset X\n",
    "    \"\"\"\n",
    "\n",
    "    m = X.shape[1]\n",
    "    p = np.zeros((1,m))\n",
    "\n",
    "    # Forward propagation\n",
    "    probas, caches = L_model(X, params, activations, final_activ)\n",
    "\n",
    "\n",
    "    # convert probas to 0/1 predictions\n",
    "    for i in range(0, probas.shape[1]):\n",
    "        if probas[0,i] > 0.5:\n",
    "            p[0,i] = 1\n",
    "        else:\n",
    "            p[0,i] = 0\n",
    "\n",
    "    #print results\n",
    "    #print (\"predictions: \" + str(p))\n",
    "    #print (\"true labels: \" + str(y))\n",
    "    print(\"Accuracy: \"  + str(np.sum((p[0] == Y[0]))/m))\n",
    "\n",
    "    return p"
   ]
  },
  {
   "cell_type": "code",
   "execution_count": 29,
   "metadata": {},
   "outputs": [
    {
     "name": "stdout",
     "output_type": "stream",
     "text": [
      "Accuracy: 0.64\n"
     ]
    },
    {
     "data": {
      "text/plain": [
       "array([[1., 0., 0., 0., 1., 0., 0., 1., 1., 1., 0., 1., 1., 1., 0., 1.,\n",
       "        0., 1., 0., 0., 1., 0., 0., 0., 1., 0., 0., 0., 0., 1., 0., 1.,\n",
       "        1., 1., 1., 0., 0., 1., 0., 0., 1., 0., 1., 0., 1., 0., 0., 1.,\n",
       "        1., 0.]])"
      ]
     },
     "execution_count": 29,
     "metadata": {},
     "output_type": "execute_result"
    }
   ],
   "source": [
    "test_pred(test_x, test_y, trained_model)"
   ]
  },
  {
   "cell_type": "markdown",
   "metadata": {},
   "source": [
    "This result is not very good (let's remember that a random choice would yield an accuracy of 0.5), but maybe another initialization would be more satisfactory: in the last case (the one used for the prediction), the cost was ~0.1 while on other simulations, we reached half this cost. Let's train again, and this time a bit longer."
   ]
  },
  {
   "cell_type": "code",
   "execution_count": 30,
   "metadata": {},
   "outputs": [
    {
     "name": "stdout",
     "output_type": "stream",
     "text": [
      "Cost after 250 iterations : 0.45596622827909267\n",
      "Cost after 500 iterations : 0.29825104766968036\n",
      "Cost after 750 iterations : 0.1253567329518423\n",
      "Cost after 1000 iterations : 0.058499407623742644\n",
      "Cost after 1250 iterations : 0.021790063614392455\n",
      "Cost after 1500 iterations : 0.011305273855980694\n",
      "Cost after 1750 iterations : 0.00682594116976536\n",
      "Cost after 2000 iterations : 0.004649173935583757\n",
      "Cost after 2250 iterations : 0.003414508125884274\n",
      "Cost after 2500 iterations : 0.00264696797262856\n"
     ]
    }
   ],
   "source": [
    "trained_model2 = L_layer_model(train_x, train_y, layer_dims, learning_rate, activations, final_activ, num_iterations + 500)\n"
   ]
  },
  {
   "cell_type": "markdown",
   "metadata": {},
   "source": [
    "This looks better! So what's our accuracy with these parameters?"
   ]
  },
  {
   "cell_type": "code",
   "execution_count": 31,
   "metadata": {},
   "outputs": [
    {
     "name": "stdout",
     "output_type": "stream",
     "text": [
      "Accuracy: 0.68\n"
     ]
    },
    {
     "data": {
      "text/plain": [
       "array([[1., 1., 1., 1., 1., 1., 0., 1., 1., 1., 0., 1., 1., 0., 0., 1.,\n",
       "        0., 1., 0., 0., 1., 0., 0., 1., 0., 0., 0., 0., 0., 1., 0., 1.,\n",
       "        1., 1., 1., 0., 0., 1., 0., 0., 0., 0., 1., 0., 1., 0., 0., 1.,\n",
       "        1., 0.]])"
      ]
     },
     "execution_count": 31,
     "metadata": {},
     "output_type": "execute_result"
    }
   ],
   "source": [
    "test_pred(test_x, test_y, trained_model2)"
   ]
  },
  {
   "cell_type": "markdown",
   "metadata": {},
   "source": [
    "Huh! This exemplifies overfitting!"
   ]
  },
  {
   "cell_type": "code",
   "execution_count": 33,
   "metadata": {},
   "outputs": [
    {
     "name": "stdout",
     "output_type": "stream",
     "text": [
      "Accuracy: 1.0\n"
     ]
    },
    {
     "data": {
      "text/plain": [
       "array([[0., 0., 1., 0., 0., 0., 0., 1., 0., 0., 0., 1., 0., 1., 1., 0.,\n",
       "        0., 0., 0., 1., 0., 0., 0., 0., 1., 1., 0., 1., 0., 1., 0., 0.,\n",
       "        0., 0., 0., 0., 0., 0., 1., 0., 0., 1., 1., 0., 0., 0., 0., 1.,\n",
       "        0., 0., 1., 0., 0., 0., 1., 0., 1., 1., 0., 1., 1., 1., 0., 0.,\n",
       "        0., 0., 0., 0., 1., 0., 0., 1., 0., 0., 0., 0., 0., 0., 0., 0.,\n",
       "        0., 0., 0., 1., 1., 0., 0., 0., 1., 0., 0., 0., 1., 1., 1., 0.,\n",
       "        0., 1., 0., 0., 0., 0., 1., 0., 1., 0., 1., 1., 1., 1., 1., 1.,\n",
       "        0., 0., 0., 0., 0., 1., 0., 0., 0., 1., 0., 0., 1., 0., 1., 0.,\n",
       "        1., 1., 0., 0., 0., 1., 1., 1., 1., 1., 0., 0., 0., 0., 1., 0.,\n",
       "        1., 1., 1., 0., 1., 1., 0., 0., 0., 1., 0., 0., 1., 0., 0., 0.,\n",
       "        0., 0., 1., 0., 1., 0., 1., 0., 0., 1., 1., 1., 0., 0., 1., 1.,\n",
       "        0., 1., 0., 1., 0., 0., 0., 0., 0., 1., 0., 0., 1., 0., 0., 0.,\n",
       "        1., 0., 0., 0., 0., 1., 0., 0., 1., 0., 0., 0., 0., 0., 0., 0.,\n",
       "        0.]])"
      ]
     },
     "execution_count": 33,
     "metadata": {},
     "output_type": "execute_result"
    }
   ],
   "source": [
    "test_pred(train_x, train_y, trained_model2)"
   ]
  }
 ],
 "metadata": {
  "kernelspec": {
   "display_name": "Python 3",
   "language": "python",
   "name": "python3"
  },
  "language_info": {
   "codemirror_mode": {
    "name": "ipython",
    "version": 3
   },
   "file_extension": ".py",
   "mimetype": "text/x-python",
   "name": "python",
   "nbconvert_exporter": "python",
   "pygments_lexer": "ipython3",
   "version": "3.7.3"
  }
 },
 "nbformat": 4,
 "nbformat_minor": 2
}
