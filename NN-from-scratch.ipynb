{
 "cells": [
  {
   "cell_type": "markdown",
   "metadata": {},
   "source": [
    "# Coding a neural network from scratch"
   ]
  },
  {
   "cell_type": "markdown",
   "metadata": {},
   "source": [
    "### Roadmap"
   ]
  },
  {
   "cell_type": "markdown",
   "metadata": {},
   "source": [
    "*****"
   ]
  },
  {
   "cell_type": "markdown",
   "metadata": {},
   "source": [
    "##### 1) Relire le code  de Vitali\n",
    "##### 2) Recoder chacune des fonctions\n",
    "##### 3) Assembler \n",
    "##### 4) Tweaker et améliorer"
   ]
  },
  {
   "cell_type": "code",
   "execution_count": 89,
   "metadata": {},
   "outputs": [],
   "source": [
    "import numpy as np"
   ]
  },
  {
   "cell_type": "code",
   "execution_count": 91,
   "metadata": {},
   "outputs": [],
   "source": [
    "test = np.zeros((5,5))\n",
    "test2 = np.array(([3,3],[3,3],[3,3]))"
   ]
  },
  {
   "cell_type": "code",
   "execution_count": 57,
   "metadata": {},
   "outputs": [],
   "source": [
    "def sigmoid(Z):\n",
    "    cache = Z\n",
    "    A = 1 / (1 + np.exp(-Z))\n",
    "    return A, cache\n",
    "\n",
    "def relu(Z):\n",
    "    cache = Z\n",
    "    A = np.maximum(0,Z)\n",
    "    return A, cache"
   ]
  },
  {
   "cell_type": "code",
   "execution_count": 94,
   "metadata": {},
   "outputs": [],
   "source": [
    "def initialize(layers_dims): #ex argument : [12288, 5,5,5,1]\n",
    "    \n",
    "    L = len(layers_dims)\n",
    "    \n",
    "    params = {}\n",
    "    \n",
    "    for i in range(1, L):\n",
    "        params['W' + str(i)] = np.random.randn(layers_dims[i], layers_dims[i-1]) #  / np.sqrt(layer_dims[l-1]) #*0.01\n",
    "        params['b' + str(i)] = np.zeros((layers_dims[i]))\n",
    "    \n",
    "    return params"
   ]
  },
  {
   "cell_type": "code",
   "execution_count": 95,
   "metadata": {},
   "outputs": [
    {
     "data": {
      "text/plain": [
       "{'W1': array([[ 1.62434536, -0.61175641],\n",
       "        [-0.52817175, -1.07296862],\n",
       "        [ 0.86540763, -2.3015387 ],\n",
       "        [ 1.74481176, -0.7612069 ]]),\n",
       " 'b1': array([0., 0., 0., 0.]),\n",
       " 'W2': array([[ 0.3190391 , -0.24937038,  1.46210794, -2.06014071]]),\n",
       " 'b2': array([0.])}"
      ]
     },
     "execution_count": 95,
     "metadata": {},
     "output_type": "execute_result"
    }
   ],
   "source": [
    "np.random.seed(1)\n",
    "initialize([2,4,1])"
   ]
  },
  {
   "cell_type": "code",
   "execution_count": 100,
   "metadata": {},
   "outputs": [],
   "source": [
    "def linear_forward(A,W,b):\n",
    "    cache = A,W,b\n",
    "    Z = np.dot(W,A) + b\n",
    "    return Z, cache"
   ]
  },
  {
   "cell_type": "code",
   "execution_count": 101,
   "metadata": {},
   "outputs": [],
   "source": [
    "def linear_activation_forward(A_prev, W, b, activation): #type(activation) == string\n",
    "    \n",
    "    Z, cache = linear_forward(A_prev, W, b)    \n",
    "    \n",
    "    if activation == \"relu\":\n",
    "        A = relu(Z)\n",
    "    elif activation == \"sigmoid\":\n",
    "        A = sigmoid(Z)\n",
    "    else:\n",
    "        raise Exception(f'{activation} function is not known'.format(activation))\n",
    "\n",
    "    return A, cache"
   ]
  },
  {
   "cell_type": "code",
   "execution_count": 111,
   "metadata": {},
   "outputs": [],
   "source": [
    "def L_model(X, params):\n",
    "    \n",
    "    L = len(params // 2)\n",
    "    caches = []\n",
    "    \n",
    "    A = X\n",
    "    \n",
    "    # L-1 premières couches\n",
    "    for l in range(1, L):\n",
    "        A_prev = A\n",
    "        A, cache = linear_activation_forward(A_prev, params['W' + str(l)], params['b' + str(l)], activation='relu')\n",
    "        caches.append(cache)\n",
    "    \n",
    "    # L-ième couche\n",
    "    A, cache = linear_activation_forward(A, params['W' + str(L)], params['b' + str(L)], activation = 'sigmoid')\n",
    "    caches.append(cache)\n",
    "    \n",
    "    Yhat = A\n",
    "    \n",
    "    return Yhat, caches\n",
    "    # caches est une liste qui contient L tupples, chacun contenant a) la \n",
    "    # matrice de poids pour une couche donnée et b) le vecteur de biais"
   ]
  },
  {
   "cell_type": "code",
   "execution_count": 112,
   "metadata": {},
   "outputs": [],
   "source": [
    "#def loss(Y,Yhat):\n",
    "#    loss = - (Y * np.log(Yhat)   +   (1 - Y) * np.log(1 - Yhat))\n",
    "#    return loss"
   ]
  },
  {
   "cell_type": "code",
   "execution_count": 117,
   "metadata": {},
   "outputs": [],
   "source": [
    "#def cost(X,Y, ):\n",
    "#    total_loss = 0\n",
    "#    \n",
    "#    total += loss(Y)\n",
    "#    \n",
    "#    mycost = 1 / (nb exemples) * (somme des losses)\n",
    "#    "
   ]
  },
  {
   "cell_type": "code",
   "execution_count": 121,
   "metadata": {},
   "outputs": [],
   "source": [
    "def compute_cost(Yhat,Y):\n",
    "    \n",
    "    m = Y.shape[1]\n",
    "    \n",
    "    cost = (- 1 / m) * (np.dot(Y,np.log(Yhat).T) + np.dot((1 - Y),np.log(1 - Yhat).T))\n",
    "    #moyenne des losses sous forme vectorielle. Renvoie un array.\n",
    "    \n",
    "    cost = np.squeeze(cost) #retire un 'niveau' de crochets\n",
    "    \n",
    "    return cost"
   ]
  },
  {
   "cell_type": "code",
   "execution_count": null,
   "metadata": {},
   "outputs": [],
   "source": [
    "def linear_backward()"
   ]
  },
  {
   "cell_type": "code",
   "execution_count": null,
   "metadata": {},
   "outputs": [],
   "source": []
  },
  {
   "cell_type": "code",
   "execution_count": null,
   "metadata": {},
   "outputs": [],
   "source": []
  },
  {
   "cell_type": "code",
   "execution_count": null,
   "metadata": {},
   "outputs": [],
   "source": [
    "np"
   ]
  },
  {
   "cell_type": "code",
   "execution_count": null,
   "metadata": {},
   "outputs": [],
   "source": []
  },
  {
   "cell_type": "code",
   "execution_count": null,
   "metadata": {},
   "outputs": [],
   "source": []
  },
  {
   "cell_type": "code",
   "execution_count": null,
   "metadata": {},
   "outputs": [],
   "source": []
  }
 ],
 "metadata": {
  "kernelspec": {
   "display_name": "Python 3",
   "language": "python",
   "name": "python3"
  },
  "language_info": {
   "codemirror_mode": {
    "name": "ipython",
    "version": 3
   },
   "file_extension": ".py",
   "mimetype": "text/x-python",
   "name": "python",
   "nbconvert_exporter": "python",
   "pygments_lexer": "ipython3",
   "version": "3.7.3"
  }
 },
 "nbformat": 4,
 "nbformat_minor": 2
}
