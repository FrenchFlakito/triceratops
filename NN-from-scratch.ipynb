{
 "cells": [
  {
   "cell_type": "markdown",
   "metadata": {},
   "source": [
    "# Coding a neural network from scratch"
   ]
  },
  {
   "cell_type": "code",
   "execution_count": 1,
   "metadata": {},
   "outputs": [],
   "source": [
    "import numpy as np\n",
    "import matplotlib.pyplot as plt"
   ]
  },
  {
   "cell_type": "code",
   "execution_count": 2,
   "metadata": {},
   "outputs": [],
   "source": [
    "def sigmoid(Z):\n",
    "    A = 1 / (1 + np.exp(-Z))\n",
    "    activ_cache = Z\n",
    "    return A, activ_cache\n",
    "\n",
    "def relu(Z):\n",
    "    A = np.maximum(0,Z)\n",
    "    activ_cache = Z\n",
    "    return A, activ_cache"
   ]
  },
  {
   "cell_type": "code",
   "execution_count": 3,
   "metadata": {},
   "outputs": [],
   "source": [
    "def initialize(layers_dims): #ex argument : [12288, 5,5,5,1]\n",
    "    \n",
    "    L = len(layers_dims)\n",
    "    \n",
    "    params = {}\n",
    "    \n",
    "    for i in range(1, L):\n",
    "        params['W' + str(i)] = np.random.randn(layers_dims[i], layers_dims[i-1]) * 0.001 #/ np.sqrt(layer_dims[i-1]) \n",
    "        params['b' + str(i)] = np.zeros((layers_dims[i],1))\n",
    "    \n",
    "    return params"
   ]
  },
  {
   "cell_type": "code",
   "execution_count": 4,
   "metadata": {},
   "outputs": [
    {
     "data": {
      "text/plain": [
       "{'W1': array([[ 0.00162435, -0.00061176],\n",
       "        [-0.00052817, -0.00107297],\n",
       "        [ 0.00086541, -0.00230154],\n",
       "        [ 0.00174481, -0.00076121]]), 'b1': array([[0.],\n",
       "        [0.],\n",
       "        [0.],\n",
       "        [0.]]), 'W2': array([[ 0.00031904, -0.00024937,  0.00146211, -0.00206014]]), 'b2': array([[0.]])}"
      ]
     },
     "execution_count": 4,
     "metadata": {},
     "output_type": "execute_result"
    }
   ],
   "source": [
    "np.random.seed(1)\n",
    "initialize([2,4,1])"
   ]
  },
  {
   "cell_type": "code",
   "execution_count": 5,
   "metadata": {},
   "outputs": [],
   "source": [
    "def linear_forward(A,W,b):\n",
    "    linear_cache = A,W,b\n",
    "    Z = np.dot(W,A) + b\n",
    "    return Z, linear_cache"
   ]
  },
  {
   "cell_type": "code",
   "execution_count": 6,
   "metadata": {},
   "outputs": [],
   "source": [
    "def linear_activation_forward(A_prev, W, b, activation): #type(activation) == string\n",
    "    \n",
    "    Z, linear_cache = linear_forward(A_prev, W, b)    \n",
    "    \n",
    "    if activation == \"relu\":\n",
    "        A, activ_cache = relu(Z)\n",
    "    elif activation == \"sigmoid\":\n",
    "        A, activ_cache = sigmoid(Z)\n",
    "    else:\n",
    "        raise Exception('{activation} function is not known'.format(activation))\n",
    "\n",
    "    cache = (linear_cache, activ_cache)\n",
    "    \n",
    "    return A, cache"
   ]
  },
  {
   "cell_type": "code",
   "execution_count": 7,
   "metadata": {},
   "outputs": [],
   "source": [
    "def L_model(X, params, activations, final_activ):\n",
    "    \n",
    "    L = len(params) // 2\n",
    "    caches = []\n",
    "    \n",
    "    A = X\n",
    "    \n",
    "    # L-1 premières couches\n",
    "    for l in range(1, L):\n",
    "        A_prev = A\n",
    "        A, cache = linear_activation_forward(A_prev, params['W' + str(l)], params['b' + str(l)], activations)\n",
    "        caches.append(cache)\n",
    "    \n",
    "    # L-ième couche\n",
    "    A, cache = linear_activation_forward(A, params['W' + str(L)], params['b' + str(L)], final_activ)\n",
    "    caches.append(cache)\n",
    "    \n",
    "    Yhat = A\n",
    "    \n",
    "    return Yhat, caches\n",
    "    # caches est une liste qui contient L tupples \"cache\", chacun contenant\n",
    "    # 1) lin_cache (avec A_prev, matrice W de la couche, et b vecteur des biais de la couche)\n",
    "    # 2) activ_cache (contenant juste Z de la couche)"
   ]
  },
  {
   "cell_type": "code",
   "execution_count": 8,
   "metadata": {},
   "outputs": [],
   "source": [
    "def compute_cost(Yhat,Y):\n",
    "    \n",
    "    m = Y.shape[1]\n",
    "    \n",
    "    #moyenne des losses sous forme vectorielle. Renvoie un array.\n",
    "    cost = (- 1. / m) * (np.dot(Y,np.log(Yhat).T) + np.dot((1 - Y),np.log(1 - Yhat).T))\n",
    "    #retirer un 'niveau' de crochets\n",
    "    cost = np.squeeze(cost)\n",
    "    \n",
    "    assert cost.shape == ()\n",
    "    \n",
    "    return cost"
   ]
  },
  {
   "cell_type": "code",
   "execution_count": 9,
   "metadata": {},
   "outputs": [],
   "source": [
    "def linear_backward(dZ, lin_cache):\n",
    "        \n",
    "    A_prev, W, b = lin_cache\n",
    "    \n",
    "    m = A_prev.shape[1]\n",
    "\n",
    "    dW = 1 / m * np.dot(dZ, A_prev.T)\n",
    "    db = 1 / m * np.sum(dZ, axis=1, keepdims=True)\n",
    "    dA_prev = np.dot(W.T, dZ)\n",
    "    \n",
    "    return dA_prev, dW, db"
   ]
  },
  {
   "cell_type": "code",
   "execution_count": 10,
   "metadata": {},
   "outputs": [],
   "source": [
    "def relu_backward(dA, Z):\n",
    "\n",
    "    dA_copy = np.array(dA, copy=True)\n",
    "    dA_copy[Z <= 0] = 0\n",
    "\n",
    "    return dA_copy"
   ]
  },
  {
   "cell_type": "code",
   "execution_count": 11,
   "metadata": {},
   "outputs": [],
   "source": [
    "def sigmoid_backward(dA, Z):\n",
    "    s, _ = sigmoid(Z)\n",
    "    dZ = dA * (s * (1 -s))\n",
    "    return dZ"
   ]
  },
  {
   "cell_type": "code",
   "execution_count": 12,
   "metadata": {},
   "outputs": [],
   "source": [
    "def lin_activation_backward(dA, cache, activation):\n",
    "    \n",
    "    lin_cache, activ_cache = cache\n",
    "    Z = activ_cache\n",
    "    \n",
    "    if activation == \"relu\":\n",
    "        dZ = relu_backward(dA, Z)\n",
    "\n",
    "    if activation == \"sigmoid\":\n",
    "        dZ = sigmoid_backward(dA, Z)\n",
    "\n",
    "    dA_prev, dW, db = linear_backward(dZ, lin_cache)\n",
    "    \n",
    "    return dA_prev, dW, db"
   ]
  },
  {
   "cell_type": "code",
   "execution_count": 13,
   "metadata": {},
   "outputs": [],
   "source": [
    "def L_model_backward(Yhat, Y, caches, activations, final_activ):\n",
    "    \n",
    "    grads = {}\n",
    "    L = len(caches)\n",
    "    m = Y.shape[1]\n",
    "    #Y = Y.reshape(AL.shape)\n",
    "    \n",
    "    \n",
    "    # dérivée de la cost function par rapport à Yhat\n",
    "    dYhat = - (np.divide(Y, Yhat) - np.divide(1-Y, (1-Yhat))) \n",
    "    \n",
    "    # descente de gradient pour les paramêtres de la dernière couche\n",
    "    current_cache = caches[L-1]\n",
    "    grads[\"dA\" + str(L-1)], grads[\"dW\" + str(L)], grads[\"db\" + str(L)] = lin_activation_backward(dYhat, current_cache, final_activ)\n",
    "    \n",
    "    # descente de gradient pour le reste des paramêtres des couches intermédiaires\n",
    "    for l in reversed(range(L-1)):\n",
    "        current_cache = caches[l]\n",
    "        grads[\"dA\" + str(l)], grads[\"dW\" + str(l+1)], grads[\"db\" + str(l+1)] = lin_activation_backward(grads[\"dA\" + str(l+1)], current_cache, activations)\n",
    "        \n",
    "    return grads"
   ]
  },
  {
   "cell_type": "code",
   "execution_count": 14,
   "metadata": {},
   "outputs": [],
   "source": [
    "def update_params(params, grads, learning_rate=0.003):\n",
    "    \n",
    "    L = len(params) // 2\n",
    "    \n",
    "    for l in range(1, L +1):\n",
    "        params['W' + str(l)] = params['W' + str(l)] - learning_rate * grads['dW' + str(l)]\n",
    "        params['b' + str(l)] = params['b' + str(l)] - learning_rate * grads['db' + str(l)]     \n",
    "    \n",
    "    return params"
   ]
  },
  {
   "cell_type": "code",
   "execution_count": 68,
   "metadata": {},
   "outputs": [],
   "source": [
    "def L_layer_model(X, Y, layer_dims, learning_rate, activations, final_activ, num_iterations, print_cost=True):\n",
    "    \n",
    "    assert(layer_dims[0] == X.shape[0])\n",
    "\n",
    "    np.random.seed(1)\n",
    "    \n",
    "    params = initialize(layer_dims) #le premier élément de layer_dims est le nombre de features\n",
    "    costs = []\n",
    "    \n",
    "    for it in range(1,num_iterations + 1):\n",
    "        \n",
    "        Yhat, caches = L_model(X, params, activations, final_activ) #forward pass\n",
    "        \n",
    "        cost = compute_cost(Yhat, Y) #compute cost of this state\n",
    "        \n",
    "        if print_cost and it % 1000 == 0:\n",
    "            print(\"Cost after {} iterations : {}\".format(it, cost))\n",
    "            costs.append(cost) #logs the cost every 1000 iterations\n",
    "        \n",
    "        #ongoing reflexion : on modifie notre neurone après avoir évalué son coût (/perf), c'est moyen, non ?\n",
    "        grads = L_model_backward(Yhat, Y, caches, activations, final_activ)\n",
    "        \n",
    "        update_params(params, grads, learning_rate=1e-3)\n",
    "        \n",
    "    plt.plot(np.squeeze(costs))\n",
    "    plt.ylabel('cost')\n",
    "    plt.xlabel('iterations (per hundreds)')\n",
    "    plt.title(\"Learning rate =\" + str(learning_rate))\n",
    "    plt.show()\n",
    "                \n",
    "    return params"
   ]
  },
  {
   "cell_type": "markdown",
   "metadata": {},
   "source": [
    "### Création d'un dataset"
   ]
  },
  {
   "cell_type": "code",
   "execution_count": 73,
   "metadata": {},
   "outputs": [
    {
     "data": {
      "text/plain": [
       "((1, 2000), (1, 2000))"
      ]
     },
     "execution_count": 73,
     "metadata": {},
     "output_type": "execute_result"
    }
   ],
   "source": [
    "train_examples = 2000\n",
    "test_examples = 200\n",
    "\n",
    "X_train = np.random.randint(1, 11, size = (1, train_examples))\n",
    "X_test  = np.random.randint(1, 11, size = (1, test_examples))\n",
    "\n",
    "Y_train = np.array(X_train, copy=True)\n",
    "Y_train[X_train > 5] = 1\n",
    "Y_train[X_train <= 5] = 0\n",
    "\n",
    "Y_test = np.array(X_test, copy=True)\n",
    "Y_test[X_test > 5] = 1\n",
    "Y_test[X_test <= 5] = 0\n",
    "\n",
    "X_train.shape, Y_train.shape"
   ]
  },
  {
   "cell_type": "markdown",
   "metadata": {},
   "source": [
    "### Lancement du modèle"
   ]
  },
  {
   "cell_type": "code",
   "execution_count": 86,
   "metadata": {},
   "outputs": [],
   "source": [
    "# hyperparameters\n",
    "layer_dims = [1, 2, 1]\n",
    "num_iterations = 20000\n",
    "activations = \"relu\"\n",
    "final_activ = \"sigmoid\""
   ]
  },
  {
   "cell_type": "code",
   "execution_count": 87,
   "metadata": {
    "scrolled": false
   },
   "outputs": [
    {
     "name": "stdout",
     "output_type": "stream",
     "text": [
      "Cost after 1000 iterations : 0.6928874714837704\n",
      "Cost after 2000 iterations : 0.692674969443606\n",
      "Cost after 3000 iterations : 0.6918861313444984\n",
      "Cost after 4000 iterations : 0.6841718408108659\n",
      "Cost after 5000 iterations : 0.6381581945707508\n",
      "Cost after 6000 iterations : 0.5873367146819779\n",
      "Cost after 7000 iterations : 0.556472984161496\n",
      "Cost after 8000 iterations : 0.5278122217949951\n",
      "Cost after 9000 iterations : 0.5003693872711823\n",
      "Cost after 10000 iterations : 0.47410556163654827\n",
      "Cost after 11000 iterations : 0.4489660690854921\n",
      "Cost after 12000 iterations : 0.42489068417127523\n",
      "Cost after 13000 iterations : 0.4029669513540791\n",
      "Cost after 14000 iterations : 0.38345497441130433\n",
      "Cost after 15000 iterations : 0.3649730474375137\n",
      "Cost after 16000 iterations : 0.34745052253152453\n",
      "Cost after 17000 iterations : 0.33083668087196016\n",
      "Cost after 18000 iterations : 0.31509622626515343\n",
      "Cost after 19000 iterations : 0.300204513182224\n",
      "Cost after 20000 iterations : 0.2861427285678677\n"
     ]
    },
    {
     "data": {
      "image/png": "[encoded data removed]",
      "text/plain": [
       "<Figure size 432x288 with 1 Axes>"
      ]
     },
     "metadata": {
      "needs_background": "light"
     },
     "output_type": "display_data"
    }
   ],
   "source": [
    "trained_model = L_layer_model(X_train, Y_train, layer_dims=layer_dims, learning_rate = 0.01, activations=\"relu\", final_activ=\"sigmoid\", num_iterations=num_iterations,)"
   ]
  },
  {
   "cell_type": "markdown",
   "metadata": {},
   "source": [
    "### Predict"
   ]
  },
  {
   "cell_type": "code",
   "execution_count": 88,
   "metadata": {},
   "outputs": [],
   "source": [
    "def test_pred(X, Y, params):\n",
    "    \"\"\"\n",
    "    Arguments:\n",
    "    X -- data set of examples you would like to label\n",
    "    parameters -- parameters of the trained model\n",
    "\n",
    "    Returns:\n",
    "    p -- predictions for the given dataset X\n",
    "    \"\"\"\n",
    "\n",
    "    m = X.shape[1]\n",
    "    p = np.zeros((1,m))\n",
    "\n",
    "    # Forward propagation\n",
    "    probas, caches = L_model(X, params, activations, final_activ)\n",
    "\n",
    "\n",
    "    # convert probas to 0/1 predictions\n",
    "    for i in range(0, probas.shape[1]):\n",
    "        if probas[0,i] > 0.5:\n",
    "            p[0,i] = 1\n",
    "        else:\n",
    "            p[0,i] = 0\n",
    "\n",
    "    #print results\n",
    "    #print (\"predictions: \" + str(p))\n",
    "    #print (\"true labels: \" + str(y))\n",
    "    print(\"Accuracy: \"  + str(np.sum((p[0] == Y[0]))/m))\n",
    "\n",
    "    return p"
   ]
  },
  {
   "cell_type": "code",
   "execution_count": 89,
   "metadata": {},
   "outputs": [
    {
     "name": "stdout",
     "output_type": "stream",
     "text": [
      "Accuracy: 0.87\n",
      "my preds [[0. 1. 1. 0. 0. 1. 1. 1. 0. 0. 1. 0. 0. 0. 0. 1. 1. 1. 1. 0. 0. 0. 1. 1.\n",
      "  0. 0. 1. 0. 1. 0. 1. 0. 1. 1. 1. 0. 0. 1. 0. 0. 1. 1. 1. 1. 1. 1. 0. 1.\n",
      "  1. 1. 1. 0. 0. 0. 1. 1. 0. 0. 0. 1. 0. 0. 1. 1. 0. 1. 1. 0. 1. 1. 0. 0.\n",
      "  0. 1. 0. 1. 0. 1. 1. 0. 1. 1. 1. 1. 1. 0. 1. 1. 1. 0. 1. 1. 1. 1. 0. 1.\n",
      "  0. 1. 1. 1. 1. 0. 1. 0. 0. 1. 1. 1. 1. 1. 0. 0. 1. 1. 1. 0. 1. 1. 1. 1.\n",
      "  0. 1. 0. 1. 0. 1. 0. 0. 1. 0. 0. 0. 1. 0. 0. 1. 0. 1. 1. 1. 1. 0. 1. 1.\n",
      "  1. 1. 0. 0. 0. 0. 0. 0. 1. 1. 0. 1. 1. 1. 0. 1. 1. 0. 1. 1. 1. 0. 0. 0.\n",
      "  1. 1. 0. 0. 0. 0. 1. 1. 1. 1. 1. 0. 0. 1. 0. 0. 1. 0. 1. 1. 1. 1. 0. 1.\n",
      "  0. 1. 1. 1. 0. 0. 1. 0.]]\n",
      "Y_test [[0 1 0 0 0 1 1 1 0 0 1 0 0 0 0 1 1 1 1 0 0 0 1 0 0 0 0 0 1 0 0 0 1 1 1 0\n",
      "  0 1 0 0 1 1 1 1 1 0 0 1 0 0 1 0 0 0 1 1 0 0 0 1 0 0 0 1 0 0 0 0 1 1 0 0\n",
      "  0 1 0 1 0 1 1 0 1 1 1 1 1 0 1 1 1 0 1 1 1 1 0 1 0 0 1 1 0 0 1 0 0 0 1 1\n",
      "  1 1 0 0 1 1 0 0 1 1 0 1 0 0 0 1 0 1 0 0 1 0 0 0 1 0 0 1 0 1 0 0 1 0 1 1\n",
      "  1 0 0 0 0 0 0 0 1 1 0 1 1 1 0 1 1 0 1 1 0 0 0 0 0 1 0 0 0 0 1 0 0 1 1 0\n",
      "  0 1 0 0 1 0 0 1 1 1 0 1 0 0 0 1 0 0 1 0]]\n"
     ]
    }
   ],
   "source": [
    "print(\"my preds\", test_pred(X_test, Y_test, trained_model))\n",
    "print(\"Y_test\", Y_test)"
   ]
  },
  {
   "cell_type": "markdown",
   "metadata": {},
   "source": [
    "### Next phases\n",
    "\n",
    "- Comprendre pourquoi l'accuracy ne change pas lorsqu'on fait varier le l_r\n",
    "- Complexifier le dataset : Tester avec un dataset où l'étiquette est 1 dans [0:20] et [80:100]\n",
    "- Tester avec un dataset avec plusieurs features (ex : XOR)"
   ]
  },
  {
   "cell_type": "code",
   "execution_count": null,
   "metadata": {},
   "outputs": [],
   "source": []
  }
 ],
 "metadata": {
  "kernelspec": {
   "display_name": "Python 3",
   "language": "python",
   "name": "python3"
  },
  "language_info": {
   "codemirror_mode": {
    "name": "ipython",
    "version": 3
   },
   "file_extension": ".py",
   "mimetype": "text/x-python",
   "name": "python",
   "nbconvert_exporter": "python",
   "pygments_lexer": "ipython3",
   "version": "3.7.3"
  }
 },
 "nbformat": 4,
 "nbformat_minor": 2
}
