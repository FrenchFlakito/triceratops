{
 "cells": [
  {
   "cell_type": "markdown",
   "metadata": {},
   "source": [
    "# Coding a neural network from scratch"
   ]
  },
  {
   "cell_type": "code",
   "execution_count": 1,
   "metadata": {},
   "outputs": [],
   "source": [
    "import numpy as np\n",
    "import matplotlib.pyplot as plt"
   ]
  },
  {
   "cell_type": "code",
   "execution_count": 2,
   "metadata": {},
   "outputs": [],
   "source": [
    "def sigmoid(Z):\n",
    "    A = 1 / (1 + np.exp(-Z))\n",
    "    activ_cache = Z\n",
    "    return A, activ_cache\n",
    "\n",
    "def relu(Z):\n",
    "    A = np.maximum(0,Z)\n",
    "    activ_cache = Z\n",
    "    return A, activ_cache"
   ]
  },
  {
   "cell_type": "code",
   "execution_count": 3,
   "metadata": {},
   "outputs": [],
   "source": [
    "def initialize(layers_dims): #ex argument : [12288, 5,5,5,1]\n",
    "    \n",
    "    L = len(layers_dims)\n",
    "    \n",
    "    params = {}\n",
    "    \n",
    "    for i in range(1, L):\n",
    "        params['W' + str(i)] = np.random.randn(layers_dims[i], layers_dims[i-1]) * 0.001 #/ np.sqrt(layer_dims[i-1]) \n",
    "        params['b' + str(i)] = np.zeros((layers_dims[i],1))\n",
    "    \n",
    "    return params"
   ]
  },
  {
   "cell_type": "code",
   "execution_count": 4,
   "metadata": {},
   "outputs": [
    {
     "data": {
      "text/plain": [
       "{'W1': array([[ 0.00162435, -0.00061176],\n",
       "        [-0.00052817, -0.00107297],\n",
       "        [ 0.00086541, -0.00230154],\n",
       "        [ 0.00174481, -0.00076121]]), 'b1': array([[0.],\n",
       "        [0.],\n",
       "        [0.],\n",
       "        [0.]]), 'W2': array([[ 0.00031904, -0.00024937,  0.00146211, -0.00206014]]), 'b2': array([[0.]])}"
      ]
     },
     "execution_count": 4,
     "metadata": {},
     "output_type": "execute_result"
    }
   ],
   "source": [
    "np.random.seed(1)\n",
    "initialize([2,4,1])"
   ]
  },
  {
   "cell_type": "code",
   "execution_count": 5,
   "metadata": {},
   "outputs": [],
   "source": [
    "def linear_forward(A,W,b):\n",
    "    linear_cache = A,W,b\n",
    "    Z = np.dot(W,A) + b\n",
    "    return Z, linear_cache"
   ]
  },
  {
   "cell_type": "code",
   "execution_count": 6,
   "metadata": {},
   "outputs": [],
   "source": [
    "def linear_activation_forward(A_prev, W, b, activation): #type(activation) == string\n",
    "    \n",
    "    Z, linear_cache = linear_forward(A_prev, W, b)    \n",
    "    \n",
    "    if activation == \"relu\":\n",
    "        A, activ_cache = relu(Z)\n",
    "    elif activation == \"sigmoid\":\n",
    "        A, activ_cache = sigmoid(Z)\n",
    "    else:\n",
    "        raise Exception('{activation} function is not known'.format(activation))\n",
    "\n",
    "    cache = (linear_cache, activ_cache)\n",
    "    \n",
    "    return A, cache"
   ]
  },
  {
   "cell_type": "code",
   "execution_count": 7,
   "metadata": {},
   "outputs": [],
   "source": [
    "def L_model(X, params, activations, final_activ):\n",
    "    \n",
    "    L = len(params) // 2\n",
    "    caches = []\n",
    "    \n",
    "    A = X\n",
    "    \n",
    "    # L-1 premières couches\n",
    "    for l in range(1, L):\n",
    "        A_prev = A\n",
    "        A, cache = linear_activation_forward(A_prev, params['W' + str(l)], params['b' + str(l)], activations)\n",
    "        caches.append(cache)\n",
    "    \n",
    "    # L-ième couche\n",
    "    A, cache = linear_activation_forward(A, params['W' + str(L)], params['b' + str(L)], final_activ)\n",
    "    caches.append(cache)\n",
    "    \n",
    "    Yhat = A\n",
    "    \n",
    "    return Yhat, caches\n",
    "    # caches est une liste qui contient L tupples \"cache\", chacun contenant\n",
    "    # 1) lin_cache (avec A_prev, matrice W de la couche, et b vecteur des biais de la couche)\n",
    "    # 2) activ_cache (contenant juste Z de la couche)"
   ]
  },
  {
   "cell_type": "code",
   "execution_count": 8,
   "metadata": {},
   "outputs": [],
   "source": [
    "def compute_cost(Yhat,Y):\n",
    "    \n",
    "    m = Y.shape[1]\n",
    "    \n",
    "    #moyenne des losses sous forme vectorielle. Renvoie un array.\n",
    "    cost = (- 1. / m) * (np.dot(Y,np.log(Yhat).T) + np.dot((1 - Y),np.log(1 - Yhat).T))\n",
    "    #retirer un 'niveau' de crochets\n",
    "    cost = np.squeeze(cost)\n",
    "    \n",
    "    assert cost.shape == ()\n",
    "    \n",
    "    return cost"
   ]
  },
  {
   "cell_type": "code",
   "execution_count": 9,
   "metadata": {},
   "outputs": [],
   "source": [
    "def linear_backward(dZ, lin_cache):\n",
    "        \n",
    "    A_prev, W, b = lin_cache\n",
    "    \n",
    "    m = A_prev.shape[1]\n",
    "\n",
    "    dW = 1 / m * np.dot(dZ, A_prev.T)\n",
    "    db = 1 / m * np.sum(dZ, axis=1, keepdims=True)\n",
    "    dA_prev = np.dot(W.T, dZ)\n",
    "    \n",
    "    return dA_prev, dW, db"
   ]
  },
  {
   "cell_type": "code",
   "execution_count": 10,
   "metadata": {},
   "outputs": [],
   "source": [
    "def relu_backward(dA, Z):\n",
    "\n",
    "    dA_copy = np.array(dA, copy=True)\n",
    "    dA_copy[Z <= 0] = 0\n",
    "\n",
    "    return dA_copy"
   ]
  },
  {
   "cell_type": "code",
   "execution_count": 11,
   "metadata": {},
   "outputs": [],
   "source": [
    "def sigmoid_backward(dA, Z):\n",
    "    s, _ = sigmoid(Z)\n",
    "    dZ = dA * (s * (1 -s))\n",
    "    return dZ"
   ]
  },
  {
   "cell_type": "code",
   "execution_count": 12,
   "metadata": {},
   "outputs": [],
   "source": [
    "def lin_activation_backward(dA, cache, activation):\n",
    "    \n",
    "    lin_cache, activ_cache = cache\n",
    "    Z = activ_cache\n",
    "    \n",
    "    if activation == \"relu\":\n",
    "        dZ = relu_backward(dA, Z)\n",
    "\n",
    "    if activation == \"sigmoid\":\n",
    "        dZ = sigmoid_backward(dA, Z)\n",
    "\n",
    "    dA_prev, dW, db = linear_backward(dZ, lin_cache)\n",
    "    \n",
    "    return dA_prev, dW, db"
   ]
  },
  {
   "cell_type": "code",
   "execution_count": 13,
   "metadata": {},
   "outputs": [],
   "source": [
    "def L_model_backward(Yhat, Y, caches, activations, final_activ):\n",
    "    \n",
    "    grads = {}\n",
    "    L = len(caches)\n",
    "    m = Y.shape[1]\n",
    "    #Y = Y.reshape(AL.shape)\n",
    "    \n",
    "    \n",
    "    # dérivée de la cost function par rapport à Yhat\n",
    "    dYhat = - (np.divide(Y, Yhat) - np.divide(1-Y, (1-Yhat))) \n",
    "    \n",
    "    # descente de gradient pour les paramêtres de la dernière couche\n",
    "    current_cache = caches[L-1]\n",
    "    grads[\"dA\" + str(L-1)], grads[\"dW\" + str(L)], grads[\"db\" + str(L)] = lin_activation_backward(dYhat, current_cache, final_activ)\n",
    "    \n",
    "    # descente de gradient pour le reste des paramêtres des couches intermédiaires\n",
    "    for l in reversed(range(L-1)):\n",
    "        current_cache = caches[l]\n",
    "        grads[\"dA\" + str(l)], grads[\"dW\" + str(l+1)], grads[\"db\" + str(l+1)] = lin_activation_backward(grads[\"dA\" + str(l+1)], current_cache, activations)\n",
    "        \n",
    "    return grads"
   ]
  },
  {
   "cell_type": "code",
   "execution_count": 14,
   "metadata": {},
   "outputs": [],
   "source": [
    "def update_params(params, grads, learning_rate=0.003):\n",
    "    \n",
    "    L = len(params) // 2\n",
    "    \n",
    "    for l in range(1, L +1):\n",
    "        params['W' + str(l)] = params['W' + str(l)] - learning_rate * grads['dW' + str(l)]\n",
    "        params['b' + str(l)] = params['b' + str(l)] - learning_rate * grads['db' + str(l)]     \n",
    "    \n",
    "    return params"
   ]
  },
  {
   "cell_type": "code",
   "execution_count": 15,
   "metadata": {},
   "outputs": [],
   "source": [
    "def L_layer_model(X, Y, layer_dims, learning_rate, activations, final_activ, num_iterations, print_cost=True):\n",
    "    \n",
    "    assert(layer_dims[0] == X.shape[0])\n",
    "\n",
    "    np.random.seed(1)\n",
    "    \n",
    "    params = initialize(layer_dims) #le premier élément de layer_dims est le nombre de features\n",
    "    costs = []\n",
    "    \n",
    "    for it in range(1,num_iterations + 1):\n",
    "        \n",
    "        Yhat, caches = L_model(X, params, activations, final_activ) #forward pass\n",
    "        \n",
    "        cost = compute_cost(Yhat, Y) #compute cost of this state\n",
    "        \n",
    "        if print_cost and it % 200 == 0:\n",
    "            print(\"Cost after {} iterations : {}\".format(it, cost))\n",
    "            costs.append(cost) #logs the cost every 100 iterations\n",
    "        \n",
    "        #ongoing reflexion : on modifie notre neurone après avoir évalué son coût (/perf), c'est moyen, non ?\n",
    "        grads = L_model_backward(Yhat, Y, caches, activations, final_activ)\n",
    "        \n",
    "        update_params(params, grads, learning_rate=1e-3)\n",
    "        \n",
    "    plt.plot(np.squeeze(costs))\n",
    "    plt.ylabel('cost')\n",
    "    plt.xlabel('iterations (per hundreds)')\n",
    "    plt.title(\"Learning rate =\" + str(learning_rate))\n",
    "    plt.show()\n",
    "                \n",
    "    return params"
   ]
  },
  {
   "cell_type": "markdown",
   "metadata": {},
   "source": [
    "### Création d'un dataset"
   ]
  },
  {
   "cell_type": "code",
   "execution_count": 16,
   "metadata": {},
   "outputs": [
    {
     "data": {
      "text/plain": [
       "((1, 100), (1, 100))"
      ]
     },
     "execution_count": 16,
     "metadata": {},
     "output_type": "execute_result"
    }
   ],
   "source": [
    "train_examples = 100\n",
    "test_examples = 10\n",
    "\n",
    "X_train = np.random.randint(1, 11, size = (1, train_examples))\n",
    "X_test  = np.random.randint(1, 11, size = (1, test_examples))\n",
    "\n",
    "Y_train = np.array(X_train, copy=True)\n",
    "Y_train[X_train > 5] = 1\n",
    "Y_train[X_train <= 5] = 0\n",
    "\n",
    "Y_test = np.array(X_train, copy=True)\n",
    "Y_test[X_train > 5] = 1\n",
    "Y_test[X_train <= 5] = 0\n",
    "\n",
    "X_train.shape, Y_train.shape"
   ]
  },
  {
   "cell_type": "markdown",
   "metadata": {},
   "source": [
    "### Lancement du modèle"
   ]
  },
  {
   "cell_type": "code",
   "execution_count": 17,
   "metadata": {},
   "outputs": [],
   "source": [
    "# hyperparameters\n",
    "layer_dims = [1, 1]\n",
    "learning_rate = 0.01\n",
    "num_iterations = 5000\n",
    "activations = \"relu\"\n",
    "final_activ = \"sigmoid\""
   ]
  },
  {
   "cell_type": "code",
   "execution_count": 18,
   "metadata": {
    "scrolled": false
   },
   "outputs": [
    {
     "name": "stdout",
     "output_type": "stream",
     "text": [
      "Cost after 200 iterations : 0.5634139457697482\n",
      "Cost after 400 iterations : 0.5542559526839483\n",
      "Cost after 600 iterations : 0.5483072653892185\n",
      "Cost after 800 iterations : 0.5426083420967386\n",
      "Cost after 1000 iterations : 0.5370198770996428\n",
      "Cost after 1200 iterations : 0.531532796608996\n",
      "Cost after 1400 iterations : 0.5261449451348276\n",
      "Cost after 1600 iterations : 0.5208545491808326\n",
      "Cost after 1800 iterations : 0.5156598609172692\n",
      "Cost after 2000 iterations : 0.5105591408787516\n",
      "Cost after 2200 iterations : 0.5055506589362164\n",
      "Cost after 2400 iterations : 0.5006326960251374\n",
      "Cost after 2600 iterations : 0.4958035457636058\n",
      "Cost after 2800 iterations : 0.4910615159434659\n",
      "Cost after 3000 iterations : 0.4864049299034675\n",
      "Cost after 3200 iterations : 0.4818321277896753\n",
      "Cost after 3400 iterations : 0.47734146770714264\n",
      "Cost after 3600 iterations : 0.47293132676668487\n",
      "Cost after 3800 iterations : 0.46860010203070557\n",
      "Cost after 4000 iterations : 0.4643462113621443\n",
      "Cost after 4200 iterations : 0.46016809418074184\n",
      "Cost after 4400 iterations : 0.4560642121308735\n",
      "Cost after 4600 iterations : 0.45203304966526725\n",
      "Cost after 4800 iterations : 0.44807311454891413\n",
      "Cost after 5000 iterations : 0.4441829382874795\n"
     ]
    },
    {
     "data": {
      "image/png": "[encoded data removed]",
      "text/plain": [
       "<Figure size 432x288 with 1 Axes>"
      ]
     },
     "metadata": {
      "needs_background": "light"
     },
     "output_type": "display_data"
    }
   ],
   "source": [
    "trained_model = L_layer_model(X_train, Y_train, layer_dims=layer_dims, learning_rate = learning_rate, activations=\"relu\", final_activ=\"sigmoid\", num_iterations=num_iterations,)"
   ]
  },
  {
   "cell_type": "markdown",
   "metadata": {},
   "source": [
    "### Predict"
   ]
  },
  {
   "cell_type": "code",
   "execution_count": 21,
   "metadata": {},
   "outputs": [],
   "source": [
    "def test_pred(X, Y, params):\n",
    "    \"\"\"\n",
    "    Arguments:\n",
    "    X -- data set of examples you would like to label\n",
    "    parameters -- parameters of the trained model\n",
    "\n",
    "    Returns:\n",
    "    p -- predictions for the given dataset X\n",
    "    \"\"\"\n",
    "\n",
    "    m = X.shape[1]\n",
    "    p = np.zeros((1,m))\n",
    "\n",
    "    # Forward propagation\n",
    "    probas, caches = L_model(X, params, activations, final_activ)\n",
    "\n",
    "\n",
    "    # convert probas to 0/1 predictions\n",
    "    for i in range(0, probas.shape[1]):\n",
    "        if probas[0,i] > 0.5:\n",
    "            p[0,i] = 1\n",
    "        else:\n",
    "            p[0,i] = 0\n",
    "\n",
    "    #print results\n",
    "    #print (\"predictions: \" + str(p))\n",
    "    #print (\"true labels: \" + str(y))\n",
    "    print(\"Accuracy: \"  + str(np.sum((p[0] == Y[0]))/m))\n",
    "\n",
    "    return p"
   ]
  },
  {
   "cell_type": "code",
   "execution_count": 22,
   "metadata": {},
   "outputs": [
    {
     "name": "stdout",
     "output_type": "stream",
     "text": [
      "Accuracy: 0.0\n"
     ]
    },
    {
     "name": "stderr",
     "output_type": "stream",
     "text": [
      "/home/guillaumeubuntu/anaconda3/envs/ds/lib/python3.7/site-packages/ipykernel_launcher.py:28: DeprecationWarning: elementwise comparison failed; this will raise an error in the future.\n"
     ]
    },
    {
     "data": {
      "text/plain": [
       "array([[0., 1., 1., 1., 1., 1., 1., 1., 0., 1.]])"
      ]
     },
     "execution_count": 22,
     "metadata": {},
     "output_type": "execute_result"
    }
   ],
   "source": [
    "test_pred(X_test, Y_test, trained_model)"
   ]
  },
  {
   "cell_type": "code",
   "execution_count": null,
   "metadata": {},
   "outputs": [],
   "source": []
  }
 ],
 "metadata": {
  "kernelspec": {
   "display_name": "Python 3",
   "language": "python",
   "name": "python3"
  },
  "language_info": {
   "codemirror_mode": {
    "name": "ipython",
    "version": 3
   },
   "file_extension": ".py",
   "mimetype": "text/x-python",
   "name": "python",
   "nbconvert_exporter": "python",
   "pygments_lexer": "ipython3",
   "version": "3.7.3"
  }
 },
 "nbformat": 4,
 "nbformat_minor": 2
}
